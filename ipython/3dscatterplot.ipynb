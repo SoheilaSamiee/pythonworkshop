{
 "cells": [
  {
   "cell_type": "code",
   "execution_count": 4,
   "metadata": {
    "collapsed": false
   },
   "outputs": [],
   "source": [
    "import numpy as np\n",
    "zipdata=np.loadtxt(\"../data/zip.train\")\n",
    "from sklearn.decomposition import PCA\n",
    "from sklearn.lda import LDA\n",
    "import matplotlib.pyplot as plt\n",
    "\n",
    "x=zipdata[:,1:]\n",
    "y=zipdata[:,0]\n",
    "\n",
    "lda=LDA(n_components=3)\n",
    "zipdata_lda=lda.fit(x,y).transform(x)\n",
    "from mpl_toolkits.mplot3d import Axes3D\n",
    "fig=plt.figure()\n",
    "ax=Axes3D(fig)\n",
    "ax.scatter(zipdata_lda[y==5,0],zipdata_lda[y==5,1],zipdata_lda[y==5,2],edgecolor=\"r\")\n",
    "ax.scatter(zipdata_lda[y==2,0],zipdata_lda[y==2,1],zipdata_lda[y==2,2],edgecolor=\"b\")\n",
    "plt.show()"
   ]
  },
  {
   "cell_type": "code",
   "execution_count": null,
   "metadata": {
    "collapsed": true
   },
   "outputs": [],
   "source": []
  }
 ],
 "metadata": {
  "kernelspec": {
   "display_name": "Python 2",
   "language": "python",
   "name": "python2"
  },
  "language_info": {
   "codemirror_mode": {
    "name": "ipython",
    "version": 2
   },
   "file_extension": ".py",
   "mimetype": "text/x-python",
   "name": "python",
   "nbconvert_exporter": "python",
   "pygments_lexer": "ipython2",
   "version": "2.7.10"
  }
 },
 "nbformat": 4,
 "nbformat_minor": 0
}
