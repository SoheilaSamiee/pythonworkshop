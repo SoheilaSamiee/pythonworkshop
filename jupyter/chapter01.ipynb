{
 "cells": [
  {
   "cell_type": "markdown",
   "metadata": {},
   "source": [
    "# Introduction to Python\n",
    "\n",
    "In this chapter, you will start testing your python by <br>\n",
    "1. printing basic operations,\n",
    "2. defining different variable types,\n",
    "3. looking into lists of objects,\n",
    "4. making decisions with conditions,\n",
    "5. iterating with for loops and\n",
    "6. defining some basic functions.\n"
   ]
  },
  {
   "cell_type": "markdown",
   "metadata": {},
   "source": [
    "## 1. Basic Syntax"
   ]
  },
  {
   "cell_type": "code",
   "execution_count": 40,
   "metadata": {
    "collapsed": true
   },
   "outputs": [],
   "source": [
    "a,b,c=2,3,\"Hello World!\""
   ]
  },
  {
   "cell_type": "code",
   "execution_count": 41,
   "metadata": {},
   "outputs": [
    {
     "name": "stdout",
     "output_type": "stream",
     "text": [
      "2 3 Hello World!\n"
     ]
    }
   ],
   "source": [
    "\n",
    "print a,b,c"
   ]
  },
  {
   "cell_type": "code",
   "execution_count": 42,
   "metadata": {},
   "outputs": [
    {
     "name": "stdout",
     "output_type": "stream",
     "text": [
      "Hello World!\n"
     ]
    }
   ],
   "source": [
    "print \"Hello World!\""
   ]
  },
  {
   "cell_type": "code",
   "execution_count": 43,
   "metadata": {},
   "outputs": [
    {
     "name": "stdout",
     "output_type": "stream",
     "text": [
      "9\n"
     ]
    }
   ],
   "source": [
    "print 3*3"
   ]
  },
  {
   "cell_type": "code",
   "execution_count": 44,
   "metadata": {},
   "outputs": [
    {
     "name": "stdout",
     "output_type": "stream",
     "text": [
      "9\n"
     ]
    }
   ],
   "source": [
    "print 3**2"
   ]
  },
  {
   "cell_type": "code",
   "execution_count": 45,
   "metadata": {},
   "outputs": [
    {
     "name": "stdout",
     "output_type": "stream",
     "text": [
      "4\n"
     ]
    }
   ],
   "source": [
    "print 2+2"
   ]
  },
  {
   "cell_type": "markdown",
   "metadata": {
    "collapsed": true
   },
   "source": [
    "You can find more examples at [LearnPython](http://www.learnpython.org) & [PythonTutorial](https://www.tutorialspoint.com/python/)."
   ]
  },
  {
   "cell_type": "markdown",
   "metadata": {},
   "source": [
    "## 2. Variable Types\n",
    "You are automatically defining a variable type while initializing the variable such as"
   ]
  },
  {
   "cell_type": "code",
   "execution_count": 46,
   "metadata": {
    "collapsed": true
   },
   "outputs": [],
   "source": [
    "myint = 7\n",
    "myfloat1 = 7.0; myfloat2 = float(7)"
   ]
  },
  {
   "cell_type": "markdown",
   "metadata": {},
   "source": [
    "You may separate commands using \";\""
   ]
  },
  {
   "cell_type": "code",
   "execution_count": 47,
   "metadata": {},
   "outputs": [
    {
     "name": "stdout",
     "output_type": "stream",
     "text": [
      "3\n",
      "3.5\n",
      "14.0\n",
      "49.0\n"
     ]
    }
   ],
   "source": [
    "print myint/2; print myfloat1/2; print myfloat2*2; print myfloat2**2"
   ]
  },
  {
   "cell_type": "code",
   "execution_count": 48,
   "metadata": {},
   "outputs": [
    {
     "name": "stdout",
     "output_type": "stream",
     "text": [
      "7.0\n"
     ]
    }
   ],
   "source": [
    "print myfloat1"
   ]
  },
  {
   "cell_type": "code",
   "execution_count": 49,
   "metadata": {
    "collapsed": true
   },
   "outputs": [],
   "source": [
    "mystring1 = 'Hello'\n",
    "mystring2 = \"World\"\n",
    "mystring12 = mystring1+\" \"+mystring2+\"!\""
   ]
  },
  {
   "cell_type": "markdown",
   "metadata": {},
   "source": [
    "You may define strings differently, and attach them using \"+\". You can remove a variable from the memory when you do not need, using \"del\""
   ]
  },
  {
   "cell_type": "code",
   "execution_count": 50,
   "metadata": {
    "collapsed": true
   },
   "outputs": [],
   "source": [
    "del mystring1, mystring2;\n"
   ]
  },
  {
   "cell_type": "code",
   "execution_count": 51,
   "metadata": {},
   "outputs": [
    {
     "name": "stdout",
     "output_type": "stream",
     "text": [
      "Hello World!\n"
     ]
    }
   ],
   "source": [
    "print mystring12"
   ]
  },
  {
   "cell_type": "code",
   "execution_count": 52,
   "metadata": {},
   "outputs": [
    {
     "name": "stdout",
     "output_type": "stream",
     "text": [
      "12\n"
     ]
    }
   ],
   "source": [
    "print len(mystring12)"
   ]
  },
  {
   "cell_type": "code",
   "execution_count": 53,
   "metadata": {},
   "outputs": [
    {
     "name": "stdout",
     "output_type": "stream",
     "text": [
      "Hello World!Hello World!\n"
     ]
    }
   ],
   "source": [
    "print mystring12 * 2"
   ]
  },
  {
   "cell_type": "markdown",
   "metadata": {},
   "source": [
    "## 3. Lists\n",
    "\n",
    "List a special case of array, except they can include variables with different types. You can easily append, delete, merge, different lists. You can even exchange the index number with a string as a name. List is one of the most useful objects in Python."
   ]
  },
  {
   "cell_type": "markdown",
   "metadata": {},
   "source": [
    "Index in list starts from zero (0) unlike R. \n",
    "A string is actually a list. \n",
    "-1 shows the end of the list but the last. \n",
    "Range of indices is like [start, end[ so you do not get access to the last element."
   ]
  },
  {
   "cell_type": "code",
   "execution_count": 54,
   "metadata": {},
   "outputs": [
    {
     "name": "stdout",
     "output_type": "stream",
     "text": [
      "!\n"
     ]
    }
   ],
   "source": [
    "print mystring12[-1]"
   ]
  },
  {
   "cell_type": "code",
   "execution_count": 55,
   "metadata": {},
   "outputs": [
    {
     "name": "stdout",
     "output_type": "stream",
     "text": [
      "Hello World\n"
     ]
    }
   ],
   "source": [
    "print mystring12[0:-1]"
   ]
  },
  {
   "cell_type": "code",
   "execution_count": 56,
   "metadata": {},
   "outputs": [
    {
     "name": "stdout",
     "output_type": "stream",
     "text": [
      "Hello World!\n"
     ]
    }
   ],
   "source": [
    "print mystring12[:]"
   ]
  },
  {
   "cell_type": "code",
   "execution_count": 57,
   "metadata": {},
   "outputs": [
    {
     "data": {
      "text/plain": [
       "[1, 2, 3]"
      ]
     },
     "execution_count": 57,
     "metadata": {},
     "output_type": "execute_result"
    }
   ],
   "source": [
    "mylist = [1,2,3]\n",
    "mylist\n"
   ]
  },
  {
   "cell_type": "code",
   "execution_count": 58,
   "metadata": {},
   "outputs": [
    {
     "name": "stdout",
     "output_type": "stream",
     "text": [
      "1\n"
     ]
    }
   ],
   "source": [
    "print mylist[0]"
   ]
  },
  {
   "cell_type": "markdown",
   "metadata": {},
   "source": [
    "Here is a simple example that shows how a list is different with an array.\n"
   ]
  },
  {
   "cell_type": "code",
   "execution_count": 59,
   "metadata": {
    "collapsed": true
   },
   "outputs": [],
   "source": [
    "mylist=[1,2,3,\"2\", \"HelloWorld\", [1,2,3] ]"
   ]
  },
  {
   "cell_type": "code",
   "execution_count": 60,
   "metadata": {},
   "outputs": [
    {
     "name": "stdout",
     "output_type": "stream",
     "text": [
      "[1, 2, 3, '2', 'HelloWorld', [1, 2, 3]]\n",
      "[1, 2, 3]\n"
     ]
    }
   ],
   "source": [
    "print mylist\n",
    "print mylist[-1]"
   ]
  },
  {
   "cell_type": "code",
   "execution_count": 61,
   "metadata": {},
   "outputs": [
    {
     "name": "stdout",
     "output_type": "stream",
     "text": [
      "[1, 2, 3, 1, 2, 3, 1, 2, 3]\n"
     ]
    }
   ],
   "source": [
    "print mylist[-1]*3"
   ]
  },
  {
   "cell_type": "markdown",
   "metadata": {},
   "source": [
    "The \"zip\" function pairs several lists of the same size.\n",
    "\n",
    "**Exercise** <br>\n",
    "\n",
    "Make two lists. First, a list of 4 of your best friends' first name.\n",
    "\n",
    "Second, a list of their family name. Then print their first name and last name.\n",
    "\n",
    "\n",
    "\n",
    "\n",
    "\n",
    "\n",
    "\n",
    "\n",
    "\n",
    "\n",
    "\n",
    "\n"
   ]
  },
  {
   "cell_type": "code",
   "execution_count": 62,
   "metadata": {
    "collapsed": true
   },
   "outputs": [],
   "source": [
    "firstname= [\"John\",\"Bruno\", \"Alan\",\"Ali\"]\n",
    "lastname=[\"Smith\", \"Agard\", \"Turing\",\"Bendavid\"]"
   ]
  },
  {
   "cell_type": "code",
   "execution_count": 63,
   "metadata": {},
   "outputs": [
    {
     "name": "stdout",
     "output_type": "stream",
     "text": [
      "['John', 'Bruno', 'Alan', 'Ali']\n"
     ]
    }
   ],
   "source": [
    "print firstname"
   ]
  },
  {
   "cell_type": "code",
   "execution_count": 64,
   "metadata": {},
   "outputs": [
    {
     "name": "stdout",
     "output_type": "stream",
     "text": [
      "['Smith', 'Agard', 'Turing', 'Bendavid']\n"
     ]
    }
   ],
   "source": [
    "print lastname "
   ]
  },
  {
   "cell_type": "code",
   "execution_count": 65,
   "metadata": {},
   "outputs": [
    {
     "name": "stdout",
     "output_type": "stream",
     "text": [
      "[('John', 'Smith'), ('Bruno', 'Agard'), ('Alan', 'Turing'), ('Ali', 'Bendavid')]\n"
     ]
    }
   ],
   "source": [
    "print zip(firstname,lastname)"
   ]
  },
  {
   "cell_type": "markdown",
   "metadata": {},
   "source": [
    "You may insert several other elements to the list using \"append\", \"insert\", \"index\" and several others. See below for for more details\n",
    "\n",
    "```python\n",
    "list.append(x)\n",
    "```\n",
    "Add an item to the end of the list; equivalent to a[len(a):] = [x].\n",
    "\n",
    "```python\n",
    "list.extend(L)\n",
    "```\n",
    "Extend the list by appending all the items in the given list; equivalent to a[len(a):] = L.\n",
    "\n",
    "```python\n",
    "list.insert(i, x)\n",
    "```\n",
    "Insert an item at a given position. The first argument is the index of the element before which to insert, so a.insert(0, x) inserts at the front of the list, and a.insert(len(a), x) is equivalent to a.append(x).\n",
    "\n",
    "```python\n",
    "list.remove(x)\n",
    "```\n",
    "Remove the first item from the list whose value is x. It is an error if there is no such item.\n",
    "\n",
    "```python\n",
    "list.pop([i])\n",
    "```\n",
    "Remove the item at the given position in the list, and return it. If no index is specified, a.pop() removes and returns the last item in the list. (The square brackets around the i in the method signature denote that the parameter is optional, not that you should type square brackets at that position. You will see this notation frequently in the Python Library Reference.)\n",
    "\n",
    "```python\n",
    "list.index(x)\n",
    "```\n",
    "Return the index in the list of the first item whose value is x. It is an error if there is no such item.\n",
    "\n",
    "```python\n",
    "list.count(x)\n",
    "```\n",
    "Return the number of times x appears in the list.\n",
    "\n",
    "```python\n",
    "list.sort(cmp=None, key=None, reverse=False)\n",
    "```\n",
    "Sort the items of the list in place (the arguments can be used for sort customization, see sorted() for their explanation).\n",
    "\n",
    "```python\n",
    "list.reverse()\n",
    "```\n",
    "\n",
    "Reverse the elements of the list, in place."
   ]
  },
  {
   "cell_type": "markdown",
   "metadata": {},
   "source": [
    "**Exercise** <br>\n",
    "Add your new friend: <br> \n",
    "1. As the first element, \n",
    "2. as the last element, \n",
    "3. in the middle.\n",
    "\n",
    "\n"
   ]
  },
  {
   "cell_type": "code",
   "execution_count": 66,
   "metadata": {},
   "outputs": [
    {
     "name": "stdout",
     "output_type": "stream",
     "text": [
      "['John', 'Bruno', 'Martin', 'Alan', 'Ali']\n"
     ]
    }
   ],
   "source": [
    "firstname.insert(2,\"Martin\")\n",
    "print firstname "
   ]
  },
  {
   "cell_type": "code",
   "execution_count": 67,
   "metadata": {},
   "outputs": [
    {
     "name": "stdout",
     "output_type": "stream",
     "text": [
      "['Smith', 'Agard', 'Trepanier', 'Turing', 'Bendavid']\n"
     ]
    }
   ],
   "source": [
    "lastname.insert(2,\"Trepanier\")\n",
    "print lastname"
   ]
  },
  {
   "cell_type": "markdown",
   "metadata": {},
   "source": [
    "## 4. Conditions \n",
    "Python uses boolean variables to evaluate conditions. Tab separates different code blocks, therefore there is no need for brackets.\n"
   ]
  },
  {
   "cell_type": "code",
   "execution_count": 68,
   "metadata": {},
   "outputs": [
    {
     "name": "stdout",
     "output_type": "stream",
     "text": [
      "True\n",
      "False\n",
      "True\n"
     ]
    }
   ],
   "source": [
    "x = 2\n",
    "print x == 2 \n",
    "print x<2\n",
    "print not x<2"
   ]
  },
  {
   "cell_type": "code",
   "execution_count": 69,
   "metadata": {},
   "outputs": [
    {
     "name": "stdout",
     "output_type": "stream",
     "text": [
      "x equals to two\n"
     ]
    }
   ],
   "source": [
    "if x==2:\n",
    "    print \"x equals to two\"\n",
    "else:\n",
    "    print \"print x differs from two\""
   ]
  },
  {
   "cell_type": "code",
   "execution_count": 70,
   "metadata": {},
   "outputs": [],
   "source": [
    "#a=1\n",
    "#if a==1:\n",
    "#print \"ye ye a equals to one\"\n",
    "#else:\n",
    "#print \"nop a differs from one\""
   ]
  },
  {
   "cell_type": "markdown",
   "metadata": {},
   "source": [
    "#### Lines and Indentation \n",
    "\n",
    "Python provides no braces to indicate blocks of code for class and function definitions or flow control. Blocks of code are denoted by line indentation, which is rigidly enforced.\n",
    "\n",
    "The number of spaces in the indentation is variable, but all statements within the block must be indented the same amount."
   ]
  },
  {
   "cell_type": "code",
   "execution_count": 71,
   "metadata": {},
   "outputs": [
    {
     "name": "stdout",
     "output_type": "stream",
     "text": [
      "['John', 'Bruno', 'Martin', 'Alan', 'Ali']\n"
     ]
    }
   ],
   "source": [
    "print firstname\n",
    "if \"Sajjad\" in firstname:\n",
    "    print \"John is in the list\""
   ]
  },
  {
   "cell_type": "markdown",
   "metadata": {},
   "source": [
    "## 5. For Loop\n",
    "The \"for\" loops iterate over a given sequence. "
   ]
  },
  {
   "cell_type": "code",
   "execution_count": 72,
   "metadata": {},
   "outputs": [
    {
     "name": "stdout",
     "output_type": "stream",
     "text": [
      "[0, 1, 2, 3, 4]\n",
      "John\n",
      "Bruno\n",
      "Martin\n",
      "Alan\n",
      "Ali\n"
     ]
    }
   ],
   "source": [
    "print range(len(firstname))\n",
    "\n",
    "for i in range(len(firstname)):\n",
    "    print firstname[i]"
   ]
  },
  {
   "cell_type": "code",
   "execution_count": 73,
   "metadata": {},
   "outputs": [
    {
     "name": "stdout",
     "output_type": "stream",
     "text": [
      "John\n",
      "Bruno\n",
      "Martin\n",
      "Alan\n",
      "Ali\n"
     ]
    }
   ],
   "source": [
    "for name in firstname:\n",
    "    print name"
   ]
  },
  {
   "cell_type": "markdown",
   "metadata": {},
   "source": [
    "**Exercise** <br>\n",
    "Create a new list in the form of firstname_lastname of your 5 friends."
   ]
  },
  {
   "cell_type": "code",
   "execution_count": 74,
   "metadata": {},
   "outputs": [
    {
     "name": "stdout",
     "output_type": "stream",
     "text": [
      "['', '', '', '', '']\n",
      "['John_Smith', 'Bruno_Agard', 'Martin_Trepanier', 'Alan_Turing', 'Ali_Bendavid']\n"
     ]
    }
   ],
   "source": [
    "first_last=[\"\"]*len(firstname)\n",
    "print first_last\n",
    "for i in range(len(firstname)):\n",
    "    first_last[i]=firstname[i]+\"_\"+lastname[i]\n",
    "print first_last\n",
    "\n",
    "\n"
   ]
  },
  {
   "cell_type": "code",
   "execution_count": 75,
   "metadata": {},
   "outputs": [
    {
     "name": "stdout",
     "output_type": "stream",
     "text": [
      "John_Smith\n",
      "Bruno_Agard\n",
      "Martin_Trepanier\n",
      "Alan_Turing\n",
      "Ali_Bendavid\n"
     ]
    }
   ],
   "source": [
    "\n",
    "\n",
    "\n",
    "for name, family in zip (firstname, lastname):\n",
    "    print name+\"_\"+family\n"
   ]
  },
  {
   "cell_type": "markdown",
   "metadata": {},
   "source": [
    "The \"range\" function is a very useful command in loops."
   ]
  },
  {
   "cell_type": "code",
   "execution_count": 76,
   "metadata": {},
   "outputs": [
    {
     "name": "stdout",
     "output_type": "stream",
     "text": [
      "[0, 1, 2, 3, 4, 5]\n"
     ]
    }
   ],
   "source": [
    "print range(6)"
   ]
  },
  {
   "cell_type": "code",
   "execution_count": 77,
   "metadata": {},
   "outputs": [
    {
     "name": "stdout",
     "output_type": "stream",
     "text": [
      "[2, 3, 4, 5]\n"
     ]
    }
   ],
   "source": [
    "print range(2,6)"
   ]
  },
  {
   "cell_type": "code",
   "execution_count": 78,
   "metadata": {},
   "outputs": [
    {
     "name": "stdout",
     "output_type": "stream",
     "text": [
      "[2, 6, 10]\n"
     ]
    }
   ],
   "source": [
    "print range(2,14,4)"
   ]
  },
  {
   "cell_type": "markdown",
   "metadata": {},
   "source": [
    "## 6. Function definition\n",
    "The \"def\" command, can be used to define a function."
   ]
  },
  {
   "cell_type": "code",
   "execution_count": 79,
   "metadata": {
    "collapsed": true
   },
   "outputs": [],
   "source": [
    "def sq(x):\n",
    "    return x**2\n"
   ]
  },
  {
   "cell_type": "code",
   "execution_count": 80,
   "metadata": {},
   "outputs": [
    {
     "name": "stdout",
     "output_type": "stream",
     "text": [
      "16\n"
     ]
    }
   ],
   "source": [
    "print sq(4)"
   ]
  },
  {
   "cell_type": "markdown",
   "metadata": {},
   "source": [
    "**Exercise ** <br>\n",
    "Define a function that gives the square of a list elements.\n"
   ]
  },
  {
   "cell_type": "code",
   "execution_count": 81,
   "metadata": {
    "collapsed": true
   },
   "outputs": [],
   "source": [
    "def sqlist1(X):\n",
    "    return [sq(x) for x in X]"
   ]
  },
  {
   "cell_type": "code",
   "execution_count": 82,
   "metadata": {},
   "outputs": [
    {
     "data": {
      "text/plain": [
       "[0, 1, 4, 9, 16, 25]"
      ]
     },
     "execution_count": 82,
     "metadata": {},
     "output_type": "execute_result"
    }
   ],
   "source": [
    "sqlist1(range(6))"
   ]
  },
  {
   "cell_type": "code",
   "execution_count": 83,
   "metadata": {
    "collapsed": true
   },
   "outputs": [],
   "source": [
    "def sqlist2(X):\n",
    "    Y=[0]*len(X)\n",
    "    for i in range(len(X)): \n",
    "        Y[i]=sq(X[i])\n",
    "    return Y"
   ]
  },
  {
   "cell_type": "code",
   "execution_count": 84,
   "metadata": {},
   "outputs": [
    {
     "data": {
      "text/plain": [
       "[0, 1, 4, 9, 16, 25]"
      ]
     },
     "execution_count": 84,
     "metadata": {},
     "output_type": "execute_result"
    }
   ],
   "source": [
    "sqlist2(range(6))"
   ]
  }
 ],
 "metadata": {
  "kernelspec": {
   "display_name": "Python 2",
   "language": "python",
   "name": "python2"
  },
  "language_info": {
   "codemirror_mode": {
    "name": "ipython",
    "version": 2
   },
   "file_extension": ".py",
   "mimetype": "text/x-python",
   "name": "python",
   "nbconvert_exporter": "python",
   "pygments_lexer": "ipython2",
   "version": "2.7.13"
  }
 },
 "nbformat": 4,
 "nbformat_minor": 1
}
