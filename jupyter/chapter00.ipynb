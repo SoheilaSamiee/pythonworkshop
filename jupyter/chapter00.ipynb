{
 "cells": [
  {
   "cell_type": "markdown",
   "metadata": {},
   "source": [
    "# How To Install Python 2.7 Anaconda\n",
    "\n",
    "We suggest installing Anaconda. Installation of Python using Anaconda is local and does not require administrator rights.<br>\n",
    "The graphical installer for Windows, MacOS, or Linux is [here](https://www.anaconda.com/download/).\n",
    "\n",
    "Choose your operating system and download the Anaconda installer for Python 2.7 version.<br>\n",
    "\n",
    "\n",
    "Then, for Windows and MacOS, double click the installer to launch and simply follow the instructions.<br>\n",
    "\n",
    "\n",
    "For Linux, open a terminal window and enter the following to install Anaconda for Python 2.7: <br>\n",
    "bash ~/Downloads/Anaconda2-4.4.0-Linux-x86_64.sh\n",
    "\n",
    "This installation includes Jupyter and Python 2.7. \n",
    "\n",
    "\n",
    "<br>\n",
    "\n"
   ]
  },
  {
   "cell_type": "markdown",
   "metadata": {},
   "source": [
    "Now, we will need to install some Python libraries in order to be ready for the workshop. <br>\n",
    "To do so, please open a terminal window if you are working with MacOS or Linux. <br>\n",
    "\n",
    "For those that are working with Windows, you can go to Windows Start menu located in the lower left portion of the desktop and search for ‘Command Prompt’ in the search box located at the bottom of the menu. <br>\n",
    "Only for Windows users, before installing anything, we have to write the following command into the ‘Command Prompt’:<br>\n",
    "conda config --add channels conda-forge<br>\n",
    "\n",
    "This way, we can use the fowlling command in order to install the packages we need:<br> \n",
    "conda install PACKAGENAME.<br>\n",
    "\n",
    "Here is the list of libraries we need :<br>\n",
    "-keras<br> that will automatically install theano, and <br>\n",
    "-tensorflow\n",
    "\n",
    "For example, type the command: conda install keras <br>\n",
    "and you will probably need to answer by \"y\" to a question about updating or installing other related libraries that will be suggested to you.\n",
    "\n",
    "You can now open a Jupyter notebook to get started with the following command: jupyter-notebook\n",
    "\n",
    "<br>\n"
   ]
  },
  {
   "cell_type": "markdown",
   "metadata": {},
   "source": [
    "For those that want to work later on different Python platforms more adapted to your work, you can refer to: <br>\n",
    "1. [Sublime](http://www.sublimetext.com/), \n",
    "2. [Pycharm](https://www.jetbrains.com/pycharm/), and\n",
    "3. [Rodeo](http://rodeo.yhat.com/). "
   ]
  },
  {
   "cell_type": "markdown",
   "metadata": {},
   "source": [
    "\n",
    "\n",
    "For more information, please read the Anaconda quickstart pdf file, which is available [here](https://store.continuum.io/static/img/Anaconda-Quickstart.pdf).\n"
   ]
  }
 ],
 "metadata": {
  "kernelspec": {
   "display_name": "Python 2",
   "language": "python",
   "name": "python2"
  },
  "language_info": {
   "codemirror_mode": {
    "name": "ipython",
    "version": 2
   },
   "file_extension": ".py",
   "mimetype": "text/x-python",
   "name": "python",
   "nbconvert_exporter": "python",
   "pygments_lexer": "ipython2",
   "version": "2.7.13"
  }
 },
 "nbformat": 4,
 "nbformat_minor": 2
}
