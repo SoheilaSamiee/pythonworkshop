{
 "cells": [
  {
   "cell_type": "markdown",
   "metadata": {},
   "source": [
    "# Fully-Connected Deep Learning \n",
    "\n",
    "Here we only focus on feed-forward networks. The feed-forward neural networks resemble non-linear regression. Neural networks is composed of hidden layers (projection), and each hidden layer contain several neurons (projection dimension). \n",
    "\n",
    "As the number of neurons in each layer increase, the network becomes _wider_. As the number of hidden layers increase, the network becomes _deeper_. \n",
    "\n",
    "\n"
   ]
  },
  {
   "cell_type": "markdown",
   "metadata": {},
   "source": [
    "## Simulated data \n",
    "As a simple starting example, remember the  bivariate classification on simulated data of **Chapter 3**. Here the matrix $X$ is the predictor and $Y$ is a binary classification indicator. In **Chapter 3** we used SVM to classify the data. This time we try a neural networks. In fitting neural networks there are several steps to follow\n",
    "\n",
    "- Define the task (supervised (classification, regression), unsupervised (generative, anomaly detection,...), reinforcement learning) \n",
    "- Set up data set X as predictive and Y as response\n",
    "- Divide the data into training set and test set\n",
    "- Define the predictive model \n",
    "- Train the model on training data\n",
    "    - set the optimizer \n",
    "    - set the batch size \n",
    "    - set the number of epochs \n",
    "    - define the loss\n",
    "    - define the metric\n",
    "    - define the regularization\n",
    "- Validate the model over the validation set and iterate over the previous step until a good performance\n",
    "- Choose the best models and evaluate on the test set\n",
    "\n"
   ]
  },
  {
   "cell_type": "code",
   "execution_count": 29,
   "metadata": {
    "scrolled": true
   },
   "outputs": [],
   "source": [
    "# load required libraries\n",
    "import numpy as np\n",
    "\n",
    "import keras\n",
    "from sklearn.model_selection import train_test_split\n",
    "import matplotlib.pyplot as plt\n",
    "%matplotlib inline\n",
    "\n",
    "from keras.models import Sequential\n",
    "from keras.layers import Dense, Conv2D, MaxPooling2D, Flatten"
   ]
  },
  {
   "cell_type": "markdown",
   "metadata": {},
   "source": [
    "Start simulation, X is multivariate Gaussian, Y is a binary variable 0 or 1."
   ]
  },
  {
   "cell_type": "code",
   "execution_count": 30,
   "metadata": {
    "collapsed": true
   },
   "outputs": [],
   "source": [
    "np.random.seed(0)\n",
    "n = 100\n",
    "X = np.vstack((np.random.multivariate_normal([0,0],[[1,0],[0,1]] ,n), np.random.multivariate_normal([3,3],[[1,0],[0,1]] ,n)))\n",
    "Y = np.array([0] * n + [1] * n)"
   ]
  },
  {
   "cell_type": "markdown",
   "metadata": {},
   "source": [
    "The first step in data preparation requires Y to be one hot coded, i.e. $(0,1)$ for one class, and $(1,0)$ for another class."
   ]
  },
  {
   "cell_type": "code",
   "execution_count": 31,
   "metadata": {
    "collapsed": true
   },
   "outputs": [],
   "source": [
    "# convert integer Y to dummy variable Y (i.e. one hot encoded)\n",
    "Y = keras.utils.np_utils.to_categorical(Y)\n"
   ]
  },
  {
   "cell_type": "markdown",
   "metadata": {
    "collapsed": true
   },
   "source": [
    "Now divide data into training and validation sets. This data partition can provide a warning in the case of overfitting."
   ]
  },
  {
   "cell_type": "code",
   "execution_count": 32,
   "metadata": {
    "collapsed": true
   },
   "outputs": [],
   "source": [
    "#divide data into train and validation 80% 20%\n",
    "X_train, X_valid, Y_train, Y_valid = train_test_split(X, Y, test_size=0.2, random_state=150)\n",
    "\n"
   ]
  },
  {
   "cell_type": "markdown",
   "metadata": {
    "collapsed": true
   },
   "source": [
    "Defining a model is simple. You must make sure what is the input dimension and what is the output dimension, then feed the data in. \n",
    "\n",
    "Here we start with a very simple model, a single  projection over a single dimension. This makes the neural model equivalent to the logistic regression."
   ]
  },
  {
   "cell_type": "code",
   "execution_count": 33,
   "metadata": {},
   "outputs": [
    {
     "name": "stdout",
     "output_type": "stream",
     "text": [
      "_________________________________________________________________\n",
      "Layer (type)                 Output Shape              Param #   \n",
      "=================================================================\n",
      "dense_16 (Dense)             (None, 2)                 6         \n",
      "=================================================================\n",
      "Total params: 6\n",
      "Trainable params: 6\n",
      "Non-trainable params: 0\n",
      "_________________________________________________________________\n",
      "None\n"
     ]
    }
   ],
   "source": [
    "#  define empty model\n",
    "model1 = Sequential()\n",
    "\n",
    "# specify the form of input and the form of output\n",
    "model1.add(Dense(units = 2, input_dim = 2, activation = 'softmax'))\n",
    "# input_dim is only required for the first layer\n",
    "# units must match the form of the input for the next layer, here next layer is the output and is binary \n",
    "model1.compile(loss = 'categorical_crossentropy', optimizer = 'adam', metrics = ['accuracy'])\n",
    "print(model1.summary())"
   ]
  },
  {
   "cell_type": "markdown",
   "metadata": {},
   "source": [
    "Now we must feed the data into the constructed model. The data goes to the model by batch and model is fit using stochastic gradient descent. The batch size and epoch number are important parameters."
   ]
  },
  {
   "cell_type": "code",
   "execution_count": 34,
   "metadata": {
    "scrolled": false
   },
   "outputs": [
    {
     "name": "stdout",
     "output_type": "stream",
     "text": [
      "Train on 160 samples, validate on 40 samples\n",
      "Epoch 1/20\n",
      "160/160 [==============================] - 0s - loss: 1.2351 - acc: 0.1938 - val_loss: 0.9699 - val_acc: 0.4250\n",
      "Epoch 2/20\n",
      "160/160 [==============================] - 0s - loss: 1.2196 - acc: 0.1938 - val_loss: 0.9617 - val_acc: 0.4500\n",
      "Epoch 3/20\n",
      "160/160 [==============================] - 0s - loss: 1.2035 - acc: 0.1875 - val_loss: 0.9536 - val_acc: 0.4500\n",
      "Epoch 4/20\n",
      "160/160 [==============================] - 0s - loss: 1.1871 - acc: 0.1812 - val_loss: 0.9456 - val_acc: 0.4500\n",
      "Epoch 5/20\n",
      "160/160 [==============================] - 0s - loss: 1.1717 - acc: 0.1812 - val_loss: 0.9377 - val_acc: 0.4500\n",
      "Epoch 6/20\n",
      "160/160 [==============================] - 0s - loss: 1.1568 - acc: 0.1812 - val_loss: 0.9299 - val_acc: 0.4500\n",
      "Epoch 7/20\n",
      "160/160 [==============================] - 0s - loss: 1.1406 - acc: 0.1687 - val_loss: 0.9223 - val_acc: 0.4000\n",
      "Epoch 8/20\n",
      "160/160 [==============================] - 0s - loss: 1.1255 - acc: 0.1625 - val_loss: 0.9148 - val_acc: 0.4000\n",
      "Epoch 9/20\n",
      "160/160 [==============================] - 0s - loss: 1.1117 - acc: 0.1625 - val_loss: 0.9073 - val_acc: 0.4000\n",
      "Epoch 10/20\n",
      "160/160 [==============================] - 0s - loss: 1.0962 - acc: 0.1625 - val_loss: 0.9001 - val_acc: 0.4000\n",
      "Epoch 11/20\n",
      "160/160 [==============================] - 0s - loss: 1.0818 - acc: 0.1625 - val_loss: 0.8930 - val_acc: 0.4000\n",
      "Epoch 12/20\n",
      "160/160 [==============================] - 0s - loss: 1.0681 - acc: 0.1625 - val_loss: 0.8860 - val_acc: 0.4000\n",
      "Epoch 13/20\n",
      "160/160 [==============================] - 0s - loss: 1.0540 - acc: 0.1625 - val_loss: 0.8792 - val_acc: 0.4000\n",
      "Epoch 14/20\n",
      "160/160 [==============================] - 0s - loss: 1.0405 - acc: 0.1625 - val_loss: 0.8725 - val_acc: 0.3750\n",
      "Epoch 15/20\n",
      "160/160 [==============================] - 0s - loss: 1.0273 - acc: 0.1625 - val_loss: 0.8659 - val_acc: 0.3750\n",
      "Epoch 16/20\n",
      "160/160 [==============================] - 0s - loss: 1.0143 - acc: 0.1750 - val_loss: 0.8595 - val_acc: 0.3750\n",
      "Epoch 17/20\n",
      "160/160 [==============================] - 0s - loss: 1.0012 - acc: 0.1750 - val_loss: 0.8532 - val_acc: 0.4000\n",
      "Epoch 18/20\n",
      "160/160 [==============================] - 0s - loss: 0.9888 - acc: 0.1750 - val_loss: 0.8471 - val_acc: 0.4250\n",
      "Epoch 19/20\n",
      "160/160 [==============================] - 0s - loss: 0.9763 - acc: 0.1812 - val_loss: 0.8411 - val_acc: 0.4250\n",
      "Epoch 20/20\n",
      "160/160 [==============================] - 0s - loss: 0.9643 - acc: 0.1812 - val_loss: 0.8352 - val_acc: 0.4250\n"
     ]
    }
   ],
   "source": [
    "# train on the training data\n",
    "fit1 = model1.fit(X_train, Y_train, validation_data=(X_valid, Y_valid), epochs = 20, batch_size = 64)"
   ]
  },
  {
   "cell_type": "markdown",
   "metadata": {},
   "source": [
    "Here we just define a simple function to visualize the trend of accuracy gain in each epoch. When the dataset by batch is fed until all data are fed, epoch becomes 1. Then again a random sample by batch are fed until all data are fed and epoch becomes 2. Depending on a random start, the result of training might be different. It is a good idea to try fitting the model several times to see if the accuracy changes drammatically."
   ]
  },
  {
   "cell_type": "code",
   "execution_count": 35,
   "metadata": {
    "collapsed": true
   },
   "outputs": [],
   "source": [
    "def accplot (fit, model, xtrain, ytrain, xvalid, yvalid):\n",
    "    print(\"Final Validation Accuracy: %.2f%%\" % (model.evaluate(xvalid, yvalid, verbose=0)[1] * 100))\n",
    "    print(\"Final Training Accuracy: %.2f%%\" % (model.evaluate(xtrain, ytrain, verbose=0)[1] * 100))\n",
    "    val_acc, = plt.plot(fit.history[\"val_acc\"], label='Validation Accuracy')\n",
    "    train_acc, = plt.plot(fit.history[\"acc\"], label='Training Accuracy')\n",
    "    plt.title(\"Model Accuracy vs Epochs\")\n",
    "    plt.ylim(ymin = 0, ymax = 1)\n",
    "    plt.ylabel(\"Accuracy\")\n",
    "    plt.xlabel(\"Epochs\")\n",
    "    plt.show()\n"
   ]
  },
  {
   "cell_type": "code",
   "execution_count": 36,
   "metadata": {
    "scrolled": true
   },
   "outputs": [
    {
     "name": "stdout",
     "output_type": "stream",
     "text": [
      "Final Validation Accuracy: 42.50%\n",
      "Final Training Accuracy: 18.75%\n"
     ]
    },
    {
     "data": {
      "image/png": "[encoded data removed]",
      "text/plain": [
       "<matplotlib.figure.Figure at 0x11bfea090>"
      ]
     },
     "metadata": {},
     "output_type": "display_data"
    }
   ],
   "source": [
    "accplot(fit1, model1, X_train, Y_train, X_valid, Y_valid)"
   ]
  },
  {
   "cell_type": "markdown",
   "metadata": {},
   "source": [
    "Now that you trained a simple model, let's make the network deeper and wider. "
   ]
  },
  {
   "cell_type": "code",
   "execution_count": 37,
   "metadata": {},
   "outputs": [
    {
     "name": "stdout",
     "output_type": "stream",
     "text": [
      "_________________________________________________________________\n",
      "Layer (type)                 Output Shape              Param #   \n",
      "=================================================================\n",
      "dense_16 (Dense)             (None, 2)                 6         \n",
      "=================================================================\n",
      "Total params: 6\n",
      "Trainable params: 6\n",
      "Non-trainable params: 0\n",
      "_________________________________________________________________\n",
      "None\n"
     ]
    }
   ],
   "source": [
    "# Now a deeper and a wider model \n",
    "model2 = Sequential()\n",
    "model2.add(Dense(units = 100, input_dim = 2, activation = 'sigmoid'))\n",
    "model2.add(Dense(units = 100, activation='sigmoid'))\n",
    "model2.add(Dense(units = 100, activation='sigmoid'))\n",
    "model2.add(Dense(units = 100, activation='sigmoid'))\n",
    "model2.add(Dense(units = 2, activation='softmax'))\n",
    "model2.compile(loss='categorical_crossentropy', optimizer='adam', metrics=['accuracy'])\n",
    "print(model1.summary())"
   ]
  },
  {
   "cell_type": "code",
   "execution_count": 38,
   "metadata": {},
   "outputs": [
    {
     "name": "stdout",
     "output_type": "stream",
     "text": [
      "Train on 160 samples, validate on 40 samples\n",
      "Epoch 1/20\n",
      "160/160 [==============================] - 0s - loss: 0.7104 - acc: 0.4562 - val_loss: 0.6812 - val_acc: 0.6750\n",
      "Epoch 2/20\n",
      "160/160 [==============================] - 0s - loss: 0.6896 - acc: 0.5438 - val_loss: 0.7796 - val_acc: 0.3250\n",
      "Epoch 3/20\n",
      "160/160 [==============================] - 0s - loss: 0.6960 - acc: 0.5438 - val_loss: 0.7975 - val_acc: 0.3250\n",
      "Epoch 4/20\n",
      "160/160 [==============================] - 0s - loss: 0.6919 - acc: 0.5438 - val_loss: 0.7312 - val_acc: 0.3250\n",
      "Epoch 5/20\n",
      "160/160 [==============================] - 0s - loss: 0.6845 - acc: 0.5438 - val_loss: 0.6838 - val_acc: 0.8500\n",
      "Epoch 6/20\n",
      "160/160 [==============================] - 0s - loss: 0.6862 - acc: 0.6688 - val_loss: 0.6869 - val_acc: 0.7250\n",
      "Epoch 7/20\n",
      "160/160 [==============================] - 0s - loss: 0.6826 - acc: 0.6875 - val_loss: 0.7212 - val_acc: 0.3250\n",
      "Epoch 8/20\n",
      "160/160 [==============================] - 0s - loss: 0.6771 - acc: 0.5438 - val_loss: 0.7321 - val_acc: 0.3250\n",
      "Epoch 9/20\n",
      "160/160 [==============================] - 0s - loss: 0.6743 - acc: 0.5438 - val_loss: 0.7459 - val_acc: 0.3250\n",
      "Epoch 10/20\n",
      "160/160 [==============================] - 0s - loss: 0.6731 - acc: 0.5438 - val_loss: 0.7352 - val_acc: 0.3250\n",
      "Epoch 11/20\n",
      "160/160 [==============================] - 0s - loss: 0.6677 - acc: 0.5438 - val_loss: 0.7046 - val_acc: 0.3250\n",
      "Epoch 12/20\n",
      "160/160 [==============================] - 0s - loss: 0.6631 - acc: 0.5687 - val_loss: 0.6776 - val_acc: 0.5000\n",
      "Epoch 13/20\n",
      "160/160 [==============================] - 0s - loss: 0.6533 - acc: 0.6375 - val_loss: 0.6852 - val_acc: 0.3500\n",
      "Epoch 14/20\n",
      "160/160 [==============================] - 0s - loss: 0.6441 - acc: 0.5500 - val_loss: 0.6993 - val_acc: 0.3250\n",
      "Epoch 15/20\n",
      "160/160 [==============================] - 0s - loss: 0.6363 - acc: 0.5438 - val_loss: 0.6904 - val_acc: 0.3250\n",
      "Epoch 16/20\n",
      "160/160 [==============================] - 0s - loss: 0.6196 - acc: 0.5812 - val_loss: 0.6393 - val_acc: 0.7250\n",
      "Epoch 17/20\n",
      "160/160 [==============================] - 0s - loss: 0.6067 - acc: 0.9250 - val_loss: 0.5956 - val_acc: 0.9500\n",
      "Epoch 18/20\n",
      "160/160 [==============================] - 0s - loss: 0.5800 - acc: 0.9625 - val_loss: 0.6070 - val_acc: 0.7250\n",
      "Epoch 19/20\n",
      "160/160 [==============================] - 0s - loss: 0.5523 - acc: 0.7938 - val_loss: 0.6016 - val_acc: 0.6750\n",
      "Epoch 20/20\n",
      "160/160 [==============================] - 0s - loss: 0.5201 - acc: 0.8312 - val_loss: 0.5417 - val_acc: 0.8500\n"
     ]
    }
   ],
   "source": [
    "fit2 = model2.fit(X_train, Y_train, validation_data=(X_valid, Y_valid), epochs=20, batch_size=64)\n"
   ]
  },
  {
   "cell_type": "code",
   "execution_count": 39,
   "metadata": {},
   "outputs": [
    {
     "name": "stdout",
     "output_type": "stream",
     "text": [
      "Final Validation Accuracy: 85.00%\n",
      "Final Training Accuracy: 93.12%\n"
     ]
    },
    {
     "data": {
      "image/png": "[encoded data removed]",
      "text/plain": [
       "<matplotlib.figure.Figure at 0x121d5bb50>"
      ]
     },
     "metadata": {},
     "output_type": "display_data"
    }
   ],
   "source": [
    "accplot(fit2, model2, X_train, Y_train, X_valid, Y_valid)"
   ]
  },
  {
   "cell_type": "markdown",
   "metadata": {
    "collapsed": true
   },
   "source": [
    "## Zip data \n",
    "The zip data of **Chapter 4 ** is a more realistic data set. We try it first with a simple network, equivalent to multilogit model, and then using a wider and deeper network."
   ]
  },
  {
   "cell_type": "code",
   "execution_count": 40,
   "metadata": {
    "collapsed": true
   },
   "outputs": [],
   "source": [
    "zipdata = np.loadtxt(\"../data/zip.train\")\n",
    "X=zipdata[:,1:]\n",
    "Y=zipdata[:,0]\n",
    "# one hot encoding of Y\n",
    "Y = keras.utils.np_utils.to_categorical(Y)"
   ]
  },
  {
   "cell_type": "code",
   "execution_count": 41,
   "metadata": {
    "collapsed": true
   },
   "outputs": [],
   "source": [
    "X_train, X_valid, Y_train, Y_valid = train_test_split(X, Y, test_size=0.2, random_state=150)\n"
   ]
  },
  {
   "cell_type": "code",
   "execution_count": 42,
   "metadata": {},
   "outputs": [
    {
     "name": "stdout",
     "output_type": "stream",
     "text": [
      "_________________________________________________________________\n",
      "Layer (type)                 Output Shape              Param #   \n",
      "=================================================================\n",
      "dense_22 (Dense)             (None, 10)                2570      \n",
      "=================================================================\n",
      "Total params: 2,570\n",
      "Trainable params: 2,570\n",
      "Non-trainable params: 0\n",
      "_________________________________________________________________\n",
      "None\n"
     ]
    }
   ],
   "source": [
    "# multi-logit regression\n",
    "model3 = Sequential()\n",
    "model3.add(Dense(units = 10, input_dim = 256, activation = 'softmax'))\n",
    "model3.compile(loss='categorical_crossentropy', optimizer='adam', metrics=['accuracy'])\n",
    "print(model3.summary())"
   ]
  },
  {
   "cell_type": "code",
   "execution_count": 43,
   "metadata": {},
   "outputs": [
    {
     "name": "stdout",
     "output_type": "stream",
     "text": [
      "Train on 5832 samples, validate on 1459 samples\n",
      "Epoch 1/20\n",
      "5832/5832 [==============================] - 0s - loss: 1.3870 - acc: 0.5676 - val_loss: 0.7301 - val_acc: 0.8067\n",
      "Epoch 2/20\n",
      "5832/5832 [==============================] - 0s - loss: 0.5428 - acc: 0.8637 - val_loss: 0.4655 - val_acc: 0.8876\n",
      "Epoch 3/20\n",
      "5832/5832 [==============================] - 0s - loss: 0.3847 - acc: 0.9023 - val_loss: 0.3723 - val_acc: 0.9130\n",
      "Epoch 4/20\n",
      "5832/5832 [==============================] - 0s - loss: 0.3192 - acc: 0.9201 - val_loss: 0.3238 - val_acc: 0.9184\n",
      "Epoch 5/20\n",
      "5832/5832 [==============================] - 0s - loss: 0.2796 - acc: 0.9312 - val_loss: 0.2911 - val_acc: 0.9219\n",
      "Epoch 6/20\n",
      "5832/5832 [==============================] - 0s - loss: 0.2531 - acc: 0.9362 - val_loss: 0.2705 - val_acc: 0.9287\n",
      "Epoch 7/20\n",
      "5832/5832 [==============================] - 0s - loss: 0.2348 - acc: 0.9400 - val_loss: 0.2568 - val_acc: 0.9315\n",
      "Epoch 8/20\n",
      "5832/5832 [==============================] - 0s - loss: 0.2200 - acc: 0.9415 - val_loss: 0.2453 - val_acc: 0.9342\n",
      "Epoch 9/20\n",
      "5832/5832 [==============================] - 0s - loss: 0.2085 - acc: 0.9460 - val_loss: 0.2364 - val_acc: 0.9363\n",
      "Epoch 10/20\n",
      "5832/5832 [==============================] - 0s - loss: 0.1989 - acc: 0.9496 - val_loss: 0.2314 - val_acc: 0.9411\n",
      "Epoch 11/20\n",
      "5832/5832 [==============================] - 0s - loss: 0.1900 - acc: 0.9504 - val_loss: 0.2237 - val_acc: 0.9397\n",
      "Epoch 12/20\n",
      "5832/5832 [==============================] - 0s - loss: 0.1850 - acc: 0.9516 - val_loss: 0.2207 - val_acc: 0.9411\n",
      "Epoch 13/20\n",
      "5832/5832 [==============================] - 0s - loss: 0.1789 - acc: 0.9542 - val_loss: 0.2139 - val_acc: 0.9431\n",
      "Epoch 14/20\n",
      "5832/5832 [==============================] - 0s - loss: 0.1715 - acc: 0.9547 - val_loss: 0.2110 - val_acc: 0.9411\n",
      "Epoch 15/20\n",
      "5832/5832 [==============================] - 0s - loss: 0.1675 - acc: 0.9563 - val_loss: 0.2052 - val_acc: 0.9417\n",
      "Epoch 16/20\n",
      "5832/5832 [==============================] - 0s - loss: 0.1626 - acc: 0.9573 - val_loss: 0.2055 - val_acc: 0.9424\n",
      "Epoch 17/20\n",
      "5832/5832 [==============================] - 0s - loss: 0.1583 - acc: 0.9583 - val_loss: 0.2056 - val_acc: 0.9417\n",
      "Epoch 18/20\n",
      "5832/5832 [==============================] - 0s - loss: 0.1545 - acc: 0.9609 - val_loss: 0.2045 - val_acc: 0.9438\n",
      "Epoch 19/20\n",
      "5832/5832 [==============================] - 0s - loss: 0.1504 - acc: 0.9600 - val_loss: 0.2004 - val_acc: 0.9459\n",
      "Epoch 20/20\n",
      "5832/5832 [==============================] - 0s - loss: 0.1471 - acc: 0.9628 - val_loss: 0.2002 - val_acc: 0.9445\n"
     ]
    }
   ],
   "source": [
    "fit3 = model3.fit(X_train, Y_train, validation_data=(X_valid, Y_valid), epochs=20, batch_size=64)\n"
   ]
  },
  {
   "cell_type": "code",
   "execution_count": 44,
   "metadata": {},
   "outputs": [
    {
     "name": "stdout",
     "output_type": "stream",
     "text": [
      "Final Validation Accuracy: 94.45%\n",
      "Final Training Accuracy: 96.38%\n"
     ]
    },
    {
     "data": {
      "image/png": "[encoded data removed]",
      "text/plain": [
       "<matplotlib.figure.Figure at 0x121d76610>"
      ]
     },
     "metadata": {},
     "output_type": "display_data"
    }
   ],
   "source": [
    "accplot(fit3, model3, X_train, Y_train, X_valid, Y_valid)\n",
    "\n"
   ]
  },
  {
   "cell_type": "markdown",
   "metadata": {},
   "source": [
    "## Fully-connected Deep and Wide Network"
   ]
  },
  {
   "cell_type": "code",
   "execution_count": 45,
   "metadata": {},
   "outputs": [
    {
     "name": "stdout",
     "output_type": "stream",
     "text": [
      "_________________________________________________________________\n",
      "Layer (type)                 Output Shape              Param #   \n",
      "=================================================================\n",
      "dense_23 (Dense)             (None, 500)               128500    \n",
      "_________________________________________________________________\n",
      "dense_24 (Dense)             (None, 500)               250500    \n",
      "_________________________________________________________________\n",
      "dense_25 (Dense)             (None, 500)               250500    \n",
      "_________________________________________________________________\n",
      "dense_26 (Dense)             (None, 500)               250500    \n",
      "_________________________________________________________________\n",
      "dense_27 (Dense)             (None, 500)               250500    \n",
      "_________________________________________________________________\n",
      "dense_28 (Dense)             (None, 10)                5010      \n",
      "=================================================================\n",
      "Total params: 1,135,510\n",
      "Trainable params: 1,135,510\n",
      "Non-trainable params: 0\n",
      "_________________________________________________________________\n",
      "None\n"
     ]
    }
   ],
   "source": [
    "# multi-logit regression\n",
    "model4 = Sequential()\n",
    "model4.add(Dense(units = 500, input_dim = 256, activation = 'sigmoid')) #layer 01\n",
    "model4.add(Dense(units = 500, input_dim = 256, activation = 'sigmoid')) #layer 02\n",
    "model4.add(Dense(units = 500, input_dim = 256, activation = 'sigmoid')) #layer 03\n",
    "model4.add(Dense(units = 500, input_dim = 256, activation = 'sigmoid')) #layer 04\n",
    "model4.add(Dense(units = 500, input_dim = 256, activation = 'sigmoid')) #layer 05\n",
    "model4.add(Dense(units = 10, activation = 'softmax'))  # layer output\n",
    "model4.compile(loss='categorical_crossentropy', optimizer='adam', metrics=['accuracy'])\n",
    "print(model4.summary())"
   ]
  },
  {
   "cell_type": "code",
   "execution_count": 46,
   "metadata": {},
   "outputs": [
    {
     "name": "stdout",
     "output_type": "stream",
     "text": [
      "Train on 5832 samples, validate on 1459 samples\n",
      "Epoch 1/20\n",
      "5832/5832 [==============================] - 2s - loss: 1.8141 - acc: 0.3289 - val_loss: 1.1500 - val_acc: 0.5319\n",
      "Epoch 2/20\n",
      "5832/5832 [==============================] - 1s - loss: 0.8092 - acc: 0.6896 - val_loss: 0.5263 - val_acc: 0.8478\n",
      "Epoch 3/20\n",
      "5832/5832 [==============================] - 1s - loss: 0.4232 - acc: 0.8760 - val_loss: 0.3607 - val_acc: 0.8951\n",
      "Epoch 4/20\n",
      "5832/5832 [==============================] - 1s - loss: 0.3000 - acc: 0.9120 - val_loss: 0.3017 - val_acc: 0.9123\n",
      "Epoch 5/20\n",
      "5832/5832 [==============================] - 1s - loss: 0.2250 - acc: 0.9347 - val_loss: 0.2319 - val_acc: 0.9349\n",
      "Epoch 6/20\n",
      "5832/5832 [==============================] - 1s - loss: 0.1845 - acc: 0.9475 - val_loss: 0.2787 - val_acc: 0.9171\n",
      "Epoch 7/20\n",
      "5832/5832 [==============================] - 1s - loss: 0.1693 - acc: 0.9520 - val_loss: 0.2353 - val_acc: 0.9376\n",
      "Epoch 8/20\n",
      "5832/5832 [==============================] - 1s - loss: 0.1430 - acc: 0.9573 - val_loss: 0.2018 - val_acc: 0.9459\n",
      "Epoch 9/20\n",
      "5832/5832 [==============================] - 1s - loss: 0.1081 - acc: 0.9667 - val_loss: 0.2530 - val_acc: 0.9273\n",
      "Epoch 10/20\n",
      "5832/5832 [==============================] - 1s - loss: 0.0899 - acc: 0.9745 - val_loss: 0.1903 - val_acc: 0.9534\n",
      "Epoch 11/20\n",
      "5832/5832 [==============================] - 1s - loss: 0.0769 - acc: 0.9779 - val_loss: 0.1799 - val_acc: 0.9575\n",
      "Epoch 12/20\n",
      "5832/5832 [==============================] - 1s - loss: 0.0712 - acc: 0.9779 - val_loss: 0.1875 - val_acc: 0.9575\n",
      "Epoch 13/20\n",
      "5832/5832 [==============================] - 1s - loss: 0.0582 - acc: 0.9822 - val_loss: 0.2165 - val_acc: 0.9465\n",
      "Epoch 14/20\n",
      "5832/5832 [==============================] - 1s - loss: 0.0626 - acc: 0.9799 - val_loss: 0.2135 - val_acc: 0.9493\n",
      "Epoch 15/20\n",
      "5832/5832 [==============================] - 1s - loss: 0.0394 - acc: 0.9877 - val_loss: 0.1906 - val_acc: 0.9575\n",
      "Epoch 16/20\n",
      "5832/5832 [==============================] - 1s - loss: 0.0370 - acc: 0.9894 - val_loss: 0.1799 - val_acc: 0.9623\n",
      "Epoch 17/20\n",
      "5832/5832 [==============================] - 1s - loss: 0.0349 - acc: 0.9894 - val_loss: 0.2630 - val_acc: 0.9465\n",
      "Epoch 18/20\n",
      "5832/5832 [==============================] - 1s - loss: 0.0480 - acc: 0.9861 - val_loss: 0.2178 - val_acc: 0.9554\n",
      "Epoch 19/20\n",
      "5832/5832 [==============================] - 1s - loss: 0.0284 - acc: 0.9907 - val_loss: 0.2128 - val_acc: 0.9568\n",
      "Epoch 20/20\n",
      "5832/5832 [==============================] - 1s - loss: 0.0216 - acc: 0.9926 - val_loss: 0.1998 - val_acc: 0.9602\n"
     ]
    }
   ],
   "source": [
    "fit4 = model4.fit(X_train, Y_train, validation_data=(X_valid, Y_valid), epochs=20, batch_size=64)\n"
   ]
  },
  {
   "cell_type": "code",
   "execution_count": 47,
   "metadata": {},
   "outputs": [
    {
     "name": "stdout",
     "output_type": "stream",
     "text": [
      "Final Validation Accuracy: 96.02%\n",
      "Final Training Accuracy: 99.59%\n"
     ]
    },
    {
     "data": {
      "image/png": "[encoded data removed]",
      "text/plain": [
       "<matplotlib.figure.Figure at 0x12212fcd0>"
      ]
     },
     "metadata": {},
     "output_type": "display_data"
    }
   ],
   "source": [
    "accplot(fit4, model4, X_train, Y_train, X_valid, Y_valid)\n",
    "\n"
   ]
  },
  {
   "cell_type": "markdown",
   "metadata": {},
   "source": [
    "# Convolutional Deep Learning"
   ]
  },
  {
   "cell_type": "markdown",
   "metadata": {},
   "source": [
    "In previous models the spatial structure of image was ignored. Convolutional network is a building-block of image (and text) modeling. First 256 pixle data must be re-formatted as 16X16 image as in **Chapter 4**. Then the re-structured data are fed into the model in batches as before."
   ]
  },
  {
   "cell_type": "code",
   "execution_count": 48,
   "metadata": {
    "collapsed": true
   },
   "outputs": [],
   "source": [
    "# re-structure the data into images 16X16 images\n",
    "X_train2D = np.zeros(shape = [X_train.shape[0],16,16,1])\n",
    "X_valid2D = np.zeros(shape = [X_valid.shape[0],16,16,1])\n",
    "\n",
    "for i in range(X_train.shape[0]):\n",
    "    X_train2D[i,] = X_train[i,].reshape(16,16,1)\n",
    "\n",
    "for i in range(X_valid.shape[0]):\n",
    "    X_valid2D[i,] = X_valid[i,].reshape(16,16,1)\n",
    "\n",
    "#    X2D_train = \n",
    "#X=zipdata2D[:,1:]\n",
    "#Y=zipdata2D[:,0]\n",
    "# one hot encoding of Y\n",
    "#Y = keras.utils.np_utils.to_categorical(Y)"
   ]
  },
  {
   "cell_type": "code",
   "execution_count": 49,
   "metadata": {},
   "outputs": [
    {
     "data": {
      "text/plain": [
       "[5832, 16, 16, 1]"
      ]
     },
     "execution_count": 49,
     "metadata": {},
     "output_type": "execute_result"
    }
   ],
   "source": [
    "[X_train.shape[0],16,16,1]"
   ]
  },
  {
   "cell_type": "markdown",
   "metadata": {},
   "source": [
    "Now we try to build two layers of convolutions. Often a convolutional layer is attached to a max-pooling layer. At the top layer, often a fully-connected layer is attached to the max-pooling layer (right before the output layer), to combine the convolution information. "
   ]
  },
  {
   "cell_type": "code",
   "execution_count": 50,
   "metadata": {
    "collapsed": true
   },
   "outputs": [],
   "source": [
    "\n",
    "model5 = Sequential()\n",
    "model5.add(Conv2D(filters = 8, kernel_size = [6,6], padding = 'same', input_shape=(16, 16, 1), activation='sigmoid'))\n",
    "model5.add(MaxPooling2D(pool_size=2))\n",
    "model5.add(Conv2D(filters = 16, kernel_size = [4,4], padding = 'same', input_shape=(16, 16, 1), activation='sigmoid'))\n",
    "model5.add(MaxPooling2D(pool_size=4))\n",
    "model5.add(Flatten())\n",
    "model5.add(Dense(units = 256, activation = 'sigmoid'))  # layer output\n",
    "model5.add(Dense(units = 10, activation = 'softmax'))  # layer output\n",
    "model5.compile(loss='categorical_crossentropy', optimizer='adam', metrics=['accuracy'])\n",
    "\n"
   ]
  },
  {
   "cell_type": "code",
   "execution_count": 51,
   "metadata": {},
   "outputs": [
    {
     "name": "stdout",
     "output_type": "stream",
     "text": [
      "_________________________________________________________________\n",
      "Layer (type)                 Output Shape              Param #   \n",
      "=================================================================\n",
      "conv2d_3 (Conv2D)            (None, 16, 16, 8)         296       \n",
      "_________________________________________________________________\n",
      "max_pooling2d_3 (MaxPooling2 (None, 8, 8, 8)           0         \n",
      "_________________________________________________________________\n",
      "conv2d_4 (Conv2D)            (None, 8, 8, 16)          2064      \n",
      "_________________________________________________________________\n",
      "max_pooling2d_4 (MaxPooling2 (None, 2, 2, 16)          0         \n",
      "_________________________________________________________________\n",
      "flatten_2 (Flatten)          (None, 64)                0         \n",
      "_________________________________________________________________\n",
      "dense_29 (Dense)             (None, 256)               16640     \n",
      "_________________________________________________________________\n",
      "dense_30 (Dense)             (None, 10)                2570      \n",
      "=================================================================\n",
      "Total params: 21,570\n",
      "Trainable params: 21,570\n",
      "Non-trainable params: 0\n",
      "_________________________________________________________________\n",
      "None\n"
     ]
    }
   ],
   "source": [
    "print(model5.summary())\n"
   ]
  },
  {
   "cell_type": "code",
   "execution_count": 52,
   "metadata": {},
   "outputs": [
    {
     "name": "stdout",
     "output_type": "stream",
     "text": [
      "Train on 5832 samples, validate on 1459 samples\n",
      "Epoch 1/20\n",
      "5832/5832 [==============================] - 1s - loss: 2.2872 - acc: 0.1612 - val_loss: 2.2574 - val_acc: 0.1604\n",
      "Epoch 2/20\n",
      "5832/5832 [==============================] - 1s - loss: 2.1777 - acc: 0.2294 - val_loss: 1.9807 - val_acc: 0.3002\n",
      "Epoch 3/20\n",
      "5832/5832 [==============================] - 1s - loss: 1.6778 - acc: 0.4590 - val_loss: 1.3731 - val_acc: 0.6018\n",
      "Epoch 4/20\n",
      "5832/5832 [==============================] - 1s - loss: 1.1583 - acc: 0.6804 - val_loss: 0.9622 - val_acc: 0.7306\n",
      "Epoch 5/20\n",
      "5832/5832 [==============================] - 1s - loss: 0.8497 - acc: 0.7876 - val_loss: 0.7357 - val_acc: 0.7834\n",
      "Epoch 6/20\n",
      "5832/5832 [==============================] - 1s - loss: 0.6470 - acc: 0.8462 - val_loss: 0.5687 - val_acc: 0.8595\n",
      "Epoch 7/20\n",
      "5832/5832 [==============================] - 1s - loss: 0.5032 - acc: 0.8841 - val_loss: 0.4514 - val_acc: 0.8931\n",
      "Epoch 8/20\n",
      "5832/5832 [==============================] - 1s - loss: 0.3967 - acc: 0.9048 - val_loss: 0.3630 - val_acc: 0.9184\n",
      "Epoch 9/20\n",
      "5832/5832 [==============================] - 1s - loss: 0.3210 - acc: 0.9191 - val_loss: 0.3060 - val_acc: 0.9280\n",
      "Epoch 10/20\n",
      "5832/5832 [==============================] - 1s - loss: 0.2716 - acc: 0.9321 - val_loss: 0.2638 - val_acc: 0.9390\n",
      "Epoch 11/20\n",
      "5832/5832 [==============================] - 1s - loss: 0.2334 - acc: 0.9412 - val_loss: 0.2336 - val_acc: 0.9411\n",
      "Epoch 12/20\n",
      "5832/5832 [==============================] - 1s - loss: 0.2059 - acc: 0.9472 - val_loss: 0.2113 - val_acc: 0.9500\n",
      "Epoch 13/20\n",
      "5832/5832 [==============================] - 1s - loss: 0.1838 - acc: 0.9527 - val_loss: 0.1934 - val_acc: 0.9500\n",
      "Epoch 14/20\n",
      "5832/5832 [==============================] - 1s - loss: 0.1674 - acc: 0.9551 - val_loss: 0.1762 - val_acc: 0.9548\n",
      "Epoch 15/20\n",
      "5832/5832 [==============================] - 1s - loss: 0.1525 - acc: 0.9607 - val_loss: 0.1702 - val_acc: 0.9527\n",
      "Epoch 16/20\n",
      "5832/5832 [==============================] - 1s - loss: 0.1410 - acc: 0.9623 - val_loss: 0.1600 - val_acc: 0.9534\n",
      "Epoch 17/20\n",
      "5832/5832 [==============================] - 1s - loss: 0.1297 - acc: 0.9662 - val_loss: 0.1444 - val_acc: 0.9596\n",
      "Epoch 18/20\n",
      "5832/5832 [==============================] - 1s - loss: 0.1196 - acc: 0.9681 - val_loss: 0.1379 - val_acc: 0.9616\n",
      "Epoch 19/20\n",
      "5832/5832 [==============================] - 1s - loss: 0.1127 - acc: 0.9690 - val_loss: 0.1335 - val_acc: 0.9609\n",
      "Epoch 20/20\n",
      "5832/5832 [==============================] - 1s - loss: 0.1092 - acc: 0.9690 - val_loss: 0.1286 - val_acc: 0.9630\n"
     ]
    }
   ],
   "source": [
    "fit5 = model5.fit(X_train2D, Y_train, validation_data=(X_valid2D, Y_valid), epochs=20, batch_size=64)\n"
   ]
  },
  {
   "cell_type": "code",
   "execution_count": 53,
   "metadata": {},
   "outputs": [
    {
     "name": "stdout",
     "output_type": "stream",
     "text": [
      "Final Validation Accuracy: 96.30%\n",
      "Final Training Accuracy: 97.31%\n"
     ]
    },
    {
     "data": {
      "image/png": "[encoded data removed]",
      "text/plain": [
       "<matplotlib.figure.Figure at 0x121d4fe50>"
      ]
     },
     "metadata": {},
     "output_type": "display_data"
    }
   ],
   "source": [
    "accplot(fit5, model5, X_train2D, Y_train, X_valid2D, Y_valid)"
   ]
  },
  {
   "cell_type": "markdown",
   "metadata": {},
   "source": [
    "# The role of the test set\n",
    "After fitting various models, the final model is chosen using an independent set of data, called the test set. \n",
    "First we must prepare the data for testing it on the models. We need to prepare one for fully-connected models that only receives vector X (1X256) as predictors, and another data the receives a matrix 16X16 as predictors.\n",
    "The categorical reponse variable Y, like the training section must be one-hot coded. "
   ]
  },
  {
   "cell_type": "code",
   "execution_count": 54,
   "metadata": {},
   "outputs": [],
   "source": [
    "zipdata = np.loadtxt(\"../data/zip.test\")\n",
    "# divide data into preditor X_test, and response Y_test\n",
    "X_test = zipdata[:,1:]\n",
    "Y_test = zipdata[:,0]\n",
    "\n",
    "# one hot encoding of Y_test\n",
    "Y_test = keras.utils.np_utils.to_categorical(Y_test)\n",
    "\n",
    "# reshape X_test for convolutional model\n",
    "X_test2D = np.zeros(shape = [X_test.shape[0],16,16,1])\n",
    "for i in range(X_test.shape[0]):\n",
    "    X_test2D[i,] = X_test[i,].reshape(16,16,1)\n"
   ]
  },
  {
   "cell_type": "code",
   "execution_count": 55,
   "metadata": {},
   "outputs": [],
   "source": [
    "#  check the accuracy of multilogit  (no hidden layer) model\n",
    "score3 = model3.evaluate(X_test, Y_test, verbose = 0)\n",
    "\n",
    "# check the accuracy of wide and deep fully-connected model\n",
    "score4 = model4.evaluate(X_test, Y_test, verbose = 0)\n",
    "\n",
    "# check the accuracy of convolution model\n",
    "score5 = model5.evaluate(X_test2D, Y_test, verbose = 0)\n"
   ]
  },
  {
   "cell_type": "code",
   "execution_count": 56,
   "metadata": {},
   "outputs": [
    {
     "name": "stdout",
     "output_type": "stream",
     "text": [
      "0.90981564536 0.925759840677 0.933731938454\n"
     ]
    }
   ],
   "source": [
    "print score3[1], score4[1], score5[1]"
   ]
  },
  {
   "cell_type": "code",
   "execution_count": null,
   "metadata": {
    "collapsed": true
   },
   "outputs": [],
   "source": []
  }
 ],
 "metadata": {
  "kernelspec": {
   "display_name": "Python 2",
   "language": "python",
   "name": "python2"
  },
  "language_info": {
   "codemirror_mode": {
    "name": "ipython",
    "version": 2
   },
   "file_extension": ".py",
   "mimetype": "text/x-python",
   "name": "python",
   "nbconvert_exporter": "python",
   "pygments_lexer": "ipython2",
   "version": "2.7.13"
  }
 },
 "nbformat": 4,
 "nbformat_minor": 1
}
