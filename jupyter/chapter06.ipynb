{
 "cells": [
  {
   "cell_type": "markdown",
   "metadata": {},
   "source": [
    "# Fully-Connected Deep Learning \n",
    "\n",
    "Here we only focus on feed-forward networks. The feed-forward neural networks resemble non-linear regression. Neural networks is composed of hidden layers (projection), and each hidden layer contain several neurons (projection dimension). \n",
    "\n",
    "As the number of neurons in each layer increase, the network becomes _wider_. As the number of hidden layers increase, the network becomes _deeper_. \n",
    "\n",
    "\n"
   ]
  },
  {
   "cell_type": "markdown",
   "metadata": {},
   "source": [
    "## Simulated data \n",
    "As a simple starting example, remember the  bivariate classification on simulated data of **Chapter 3**. Here the matrix $X$ is the predictor and $Y$ is a binary classification indicator. In **Chapter 3** we used SVM to classify the data. This time we try a neural networks. In fitting neural networks there are several steps to follow\n",
    "\n",
    "- Define the task, supervised (classification, regression), unsupervised (generative, anomaly detection,...), or reinforcement learning). \n",
    "- Set up data set X as predictive and Y as response\n",
    "- Divide the data into training set and test set\n",
    "- Define the predictive model \n",
    "- Train the model on training data\n",
    "    - set the optimizer: an optimizer changes the weight values in order to decrease the loss function on the train set. Some are faster than others, but not necessarily better on the generalization error.\n",
    "    - set the batch size: batch is a subset of data fed in the training step. \n",
    "    - set the number of epochs: epoch is like iteration. Epoch=1 when all data cirulcates into the training once. \n",
    "    - define the loss function: is a function used to estimate the weights\n",
    "    - define the metric function: A metric is a function that is used to judge the performance of your model.  It is often more interpretable than the loss function.\n",
    "    - define the regularization function: regularization is a way to slow down the optimization process such that the optimizer does not miss good area of the weights.\n",
    "- Validate the model over the validation set and iterate over the previous step until a good performance\n",
    "- Choose the best models and evaluate on the test set\n",
    "\n"
   ]
  },
  {
   "cell_type": "code",
   "execution_count": 1,
   "metadata": {
    "scrolled": true
   },
   "outputs": [
    {
     "name": "stderr",
     "output_type": "stream",
     "text": [
      "Using TensorFlow backend.\n"
     ]
    }
   ],
   "source": [
    "# load required libraries\n",
    "import numpy as np\n",
    "\n",
    "import keras\n",
    "from sklearn.model_selection import train_test_split\n",
    "import matplotlib.pyplot as plt\n",
    "%matplotlib inline\n",
    "\n",
    "from keras.models import Sequential\n",
    "from keras.layers import Dense, Conv2D, MaxPooling2D, Flatten"
   ]
  },
  {
   "cell_type": "markdown",
   "metadata": {},
   "source": [
    "Start simulation, X is multivariate Gaussian, Y is a binary variable 0 or 1."
   ]
  },
  {
   "cell_type": "code",
   "execution_count": 2,
   "metadata": {
    "collapsed": true
   },
   "outputs": [],
   "source": [
    "np.random.seed(0)\n",
    "n = 100\n",
    "X = np.vstack((np.random.multivariate_normal([0, 0], [[1, 0], [0,1]], n), \n",
    "               np.random.multivariate_normal([3, 3], [[1, 0], [0, 1]], n)))\n",
    "Y = np.array([0] * n + [1] * n)"
   ]
  },
  {
   "cell_type": "markdown",
   "metadata": {},
   "source": [
    "_keras_ library, requires Y to be one hot coded, i.e. $(0,1)$ for one class, and $(1,0)$ for another class."
   ]
  },
  {
   "cell_type": "code",
   "execution_count": 3,
   "metadata": {
    "collapsed": true
   },
   "outputs": [],
   "source": [
    "# convert integer Y to dummy variable Y (i.e. one hot encoded)\n",
    "Y = keras.utils.np_utils.to_categorical(Y)"
   ]
  },
  {
   "cell_type": "markdown",
   "metadata": {
    "collapsed": true
   },
   "source": [
    "Now divide data into training and validation sets. This data partition can provide a warning in the case of overfitting."
   ]
  },
  {
   "cell_type": "code",
   "execution_count": 4,
   "metadata": {
    "collapsed": true
   },
   "outputs": [],
   "source": [
    "# divide data into train and validation 80% 20%\n",
    "X_train, X_valid, Y_train, Y_valid = train_test_split(X, Y, test_size = 0.2, random_state = 150)"
   ]
  },
  {
   "cell_type": "markdown",
   "metadata": {
    "collapsed": true
   },
   "source": [
    "Defining a model is simple. You must make sure what is the input dimension and what is the output dimension, then feed the data in. \n",
    "\n",
    "![title](../data/nn.png)\n",
    "\n",
    "\n",
    "Here we start with a very simple model, a single  projection over a single dimension. This makes the neural model equivalent to the logistic regression."
   ]
  },
  {
   "cell_type": "code",
   "execution_count": 5,
   "metadata": {},
   "outputs": [
    {
     "name": "stdout",
     "output_type": "stream",
     "text": [
      "_________________________________________________________________\n",
      "Layer (type)                 Output Shape              Param #   \n",
      "=================================================================\n",
      "dense_1 (Dense)              (None, 2)                 6         \n",
      "=================================================================\n",
      "Total params: 6\n",
      "Trainable params: 6\n",
      "Non-trainable params: 0\n",
      "_________________________________________________________________\n",
      "None\n"
     ]
    }
   ],
   "source": [
    "#  define empty model\n",
    "model1 = Sequential()\n",
    "\n",
    "# specify the form of input and the form of output\n",
    "model1.add(Dense(units = 2, input_dim = 2, activation = 'softmax'))\n",
    "# input_dim is only required for the first layer\n",
    "# units must match the form of the input for the next layer, here next layer is the output and is binary \n",
    "model1.compile(loss = 'categorical_crossentropy', optimizer = 'adam', metrics = ['accuracy'])\n",
    "print(model1.summary())"
   ]
  },
  {
   "cell_type": "markdown",
   "metadata": {},
   "source": [
    "Now we must feed the data into the constructed model. The data goes to the model by batch and model is fit using stochastic gradient descent. The batch size and epoch number are important parameters."
   ]
  },
  {
   "cell_type": "code",
   "execution_count": 6,
   "metadata": {
    "scrolled": false
   },
   "outputs": [
    {
     "name": "stdout",
     "output_type": "stream",
     "text": [
      "Train on 160 samples, validate on 40 samples\n",
      "Epoch 1/20\n",
      "160/160 [==============================] - 0s - loss: 1.2351 - acc: 0.1938 - val_loss: 0.9697 - val_acc: 0.4250\n",
      "Epoch 2/20\n",
      "160/160 [==============================] - 0s - loss: 1.2191 - acc: 0.1938 - val_loss: 0.9615 - val_acc: 0.4500\n",
      "Epoch 3/20\n",
      "160/160 [==============================] - 0s - loss: 1.2031 - acc: 0.1875 - val_loss: 0.9534 - val_acc: 0.4500\n",
      "Epoch 4/20\n",
      "160/160 [==============================] - 0s - loss: 1.1867 - acc: 0.1812 - val_loss: 0.9454 - val_acc: 0.4500\n",
      "Epoch 5/20\n",
      "160/160 [==============================] - 0s - loss: 1.1713 - acc: 0.1812 - val_loss: 0.9375 - val_acc: 0.4500\n",
      "Epoch 6/20\n",
      "160/160 [==============================] - 0s - loss: 1.1564 - acc: 0.1812 - val_loss: 0.9297 - val_acc: 0.4500\n",
      "Epoch 7/20\n",
      "160/160 [==============================] - 0s - loss: 1.1402 - acc: 0.1687 - val_loss: 0.9221 - val_acc: 0.4000\n",
      "Epoch 8/20\n",
      "160/160 [==============================] - 0s - loss: 1.1251 - acc: 0.1625 - val_loss: 0.9145 - val_acc: 0.4000\n",
      "Epoch 9/20\n",
      "160/160 [==============================] - 0s - loss: 1.1113 - acc: 0.1625 - val_loss: 0.9071 - val_acc: 0.4000\n",
      "Epoch 10/20\n",
      "160/160 [==============================] - 0s - loss: 1.0957 - acc: 0.1625 - val_loss: 0.8998 - val_acc: 0.4000\n",
      "Epoch 11/20\n",
      "160/160 [==============================] - 0s - loss: 1.0812 - acc: 0.1625 - val_loss: 0.8927 - val_acc: 0.4000\n",
      "Epoch 12/20\n",
      "160/160 [==============================] - 0s - loss: 1.0675 - acc: 0.1625 - val_loss: 0.8858 - val_acc: 0.4000\n",
      "Epoch 13/20\n",
      "160/160 [==============================] - 0s - loss: 1.0534 - acc: 0.1625 - val_loss: 0.8789 - val_acc: 0.4000\n",
      "Epoch 14/20\n",
      "160/160 [==============================] - 0s - loss: 1.0399 - acc: 0.1625 - val_loss: 0.8722 - val_acc: 0.3750\n",
      "Epoch 15/20\n",
      "160/160 [==============================] - 0s - loss: 1.0267 - acc: 0.1687 - val_loss: 0.8657 - val_acc: 0.3750\n",
      "Epoch 16/20\n",
      "160/160 [==============================] - 0s - loss: 1.0137 - acc: 0.1750 - val_loss: 0.8592 - val_acc: 0.3750\n",
      "Epoch 17/20\n",
      "160/160 [==============================] - 0s - loss: 1.0007 - acc: 0.1750 - val_loss: 0.8529 - val_acc: 0.4000\n",
      "Epoch 18/20\n",
      "160/160 [==============================] - 0s - loss: 0.9882 - acc: 0.1750 - val_loss: 0.8468 - val_acc: 0.4250\n",
      "Epoch 19/20\n",
      "160/160 [==============================] - 0s - loss: 0.9757 - acc: 0.1812 - val_loss: 0.8408 - val_acc: 0.4250\n",
      "Epoch 20/20\n",
      "160/160 [==============================] - 0s - loss: 0.9637 - acc: 0.1812 - val_loss: 0.8349 - val_acc: 0.4250\n"
     ]
    }
   ],
   "source": [
    "# train on the training data\n",
    "fit1 = model1.fit(X_train, Y_train, validation_data=(X_valid, Y_valid), epochs = 20, batch_size = 64)"
   ]
  },
  {
   "cell_type": "markdown",
   "metadata": {},
   "source": [
    "Here we just define a simple function to visualize the trend of accuracy gain in each epoch. When the dataset by batch is fed until all data are fed, epoch becomes 1. Then again a random sample by batch are fed until all data are fed and epoch becomes 2. Depending on a random start, the result of training might be different. It is a good idea to try fitting the model several times to see if the accuracy changes drammatically."
   ]
  },
  {
   "cell_type": "code",
   "execution_count": 7,
   "metadata": {
    "collapsed": true
   },
   "outputs": [],
   "source": [
    "def accplot (fit, model, xtrain, ytrain, xvalid, yvalid, ylim=[0, 1]):\n",
    "    print(\"Final Validation Accuracy: %.2f%%\" % (model.evaluate(xvalid, yvalid, verbose=0)[1] * 100))\n",
    "    print(\"Final Training Accuracy: %.2f%%\" % (model.evaluate(xtrain, ytrain, verbose=0)[1] * 100))\n",
    "    val_acc, = plt.plot(fit.history[\"val_acc\"], label='Validation Accuracy', color = \"blue\")\n",
    "    train_acc, = plt.plot(fit.history[\"acc\"], label='Training Accuracy', color = \"black\")\n",
    "    plt.title(\"Model Accuracy vs Epochs\")\n",
    "    plt.legend(loc=\"upper left\")\n",
    "    plt.ylim(ymin = ylim[0], ymax = ylim[1])\n",
    "    plt.ylabel(\"Accuracy\")\n",
    "    plt.xlabel(\"Epochs\")\n",
    "    plt.show()\n",
    "\n",
    "def lossplot (fit, model, xtrain, ytrain, xvalid, yvalid):\n",
    "    print(\"Final Validation Accuracy: %.2f%%\" % (model.evaluate(xvalid, yvalid, verbose=0)[0] * 100))\n",
    "    print(\"Final Training Accuracy: %.2f%%\" % (model.evaluate(xtrain, ytrain, verbose=0)[0] * 100))\n",
    "    val_loss, = plt.plot(fit.history[\"val_loss\"], label='Validation Loss', color = \"blue\")\n",
    "    train_loss, = plt.plot(fit.history[\"loss\"], label='Training Loss', color = \"black\")\n",
    "    plt.title(\"Loss vs Epochs\")\n",
    "    plt.legend(loc=\"upper left\")\n",
    "    plt.ylabel(\"Loss\")\n",
    "    plt.xlabel(\"Epochs\")\n",
    "    plt.show()"
   ]
  },
  {
   "cell_type": "code",
   "execution_count": 8,
   "metadata": {},
   "outputs": [
    {
     "name": "stdout",
     "output_type": "stream",
     "text": [
      "Final Validation Accuracy: 42.50%\n",
      "Final Training Accuracy: 18.75%\n"
     ]
    },
    {
     "data": {
      "image/png": "[encoded data removed]",
      "text/plain": [
       "<matplotlib.figure.Figure at 0x12733e410>"
      ]
     },
     "metadata": {},
     "output_type": "display_data"
    }
   ],
   "source": [
    "accplot(fit1, model1, X_train, Y_train, X_valid, Y_valid)"
   ]
  },
  {
   "cell_type": "code",
   "execution_count": 9,
   "metadata": {},
   "outputs": [
    {
     "name": "stdout",
     "output_type": "stream",
     "text": [
      "Final Validation Accuracy: 83.49%\n",
      "Final Training Accuracy: 95.49%\n"
     ]
    },
    {
     "data": {
      "image/png": "[encoded data removed]",
      "text/plain": [
       "<matplotlib.figure.Figure at 0x127437890>"
      ]
     },
     "metadata": {},
     "output_type": "display_data"
    }
   ],
   "source": [
    "lossplot(fit1, model1, X_train, Y_train, X_valid, Y_valid)"
   ]
  },
  {
   "cell_type": "markdown",
   "metadata": {},
   "source": [
    "Now that you trained a simple model, let's make the network deeper and wider. "
   ]
  },
  {
   "cell_type": "code",
   "execution_count": 10,
   "metadata": {},
   "outputs": [
    {
     "name": "stdout",
     "output_type": "stream",
     "text": [
      "_________________________________________________________________\n",
      "Layer (type)                 Output Shape              Param #   \n",
      "=================================================================\n",
      "dense_1 (Dense)              (None, 2)                 6         \n",
      "=================================================================\n",
      "Total params: 6\n",
      "Trainable params: 6\n",
      "Non-trainable params: 0\n",
      "_________________________________________________________________\n",
      "None\n"
     ]
    }
   ],
   "source": [
    "# Now a deeper and a wider model \n",
    "model2 = Sequential()\n",
    "model2.add(Dense(units = 100, input_dim = 2, activation = 'sigmoid'))\n",
    "model2.add(Dense(units = 100, activation='sigmoid'))\n",
    "model2.add(Dense(units = 100, activation='sigmoid'))\n",
    "model2.add(Dense(units = 100, activation='sigmoid'))\n",
    "model2.add(Dense(units = 2, activation='softmax'))\n",
    "model2.compile(loss = 'categorical_crossentropy', optimizer = 'adam', metrics = ['accuracy'])\n",
    "print(model1.summary())"
   ]
  },
  {
   "cell_type": "code",
   "execution_count": 11,
   "metadata": {},
   "outputs": [
    {
     "name": "stdout",
     "output_type": "stream",
     "text": [
      "Train on 160 samples, validate on 40 samples\n",
      "Epoch 1/20\n",
      "160/160 [==============================] - 0s - loss: 0.7093 - acc: 0.4562 - val_loss: 0.6848 - val_acc: 0.6750\n",
      "Epoch 2/20\n",
      "160/160 [==============================] - 0s - loss: 0.6888 - acc: 0.5438 - val_loss: 0.7886 - val_acc: 0.3250\n",
      "Epoch 3/20\n",
      "160/160 [==============================] - 0s - loss: 0.6976 - acc: 0.5438 - val_loss: 0.7974 - val_acc: 0.3250\n",
      "Epoch 4/20\n",
      "160/160 [==============================] - 0s - loss: 0.6914 - acc: 0.5438 - val_loss: 0.7258 - val_acc: 0.3250\n",
      "Epoch 5/20\n",
      "160/160 [==============================] - 0s - loss: 0.6847 - acc: 0.6000 - val_loss: 0.6806 - val_acc: 0.6750\n",
      "Epoch 6/20\n",
      "160/160 [==============================] - 0s - loss: 0.6868 - acc: 0.4688 - val_loss: 0.6873 - val_acc: 0.6500\n",
      "Epoch 7/20\n",
      "160/160 [==============================] - 0s - loss: 0.6826 - acc: 0.6625 - val_loss: 0.7248 - val_acc: 0.3250\n",
      "Epoch 8/20\n",
      "160/160 [==============================] - 0s - loss: 0.6772 - acc: 0.5438 - val_loss: 0.7348 - val_acc: 0.3250\n",
      "Epoch 9/20\n",
      "160/160 [==============================] - 0s - loss: 0.6747 - acc: 0.5438 - val_loss: 0.7455 - val_acc: 0.3250\n",
      "Epoch 10/20\n",
      "160/160 [==============================] - 0s - loss: 0.6730 - acc: 0.5438 - val_loss: 0.7327 - val_acc: 0.3250\n",
      "Epoch 11/20\n",
      "160/160 [==============================] - 0s - loss: 0.6675 - acc: 0.5438 - val_loss: 0.7029 - val_acc: 0.3250\n",
      "Epoch 12/20\n",
      "160/160 [==============================] - 0s - loss: 0.6630 - acc: 0.5750 - val_loss: 0.6779 - val_acc: 0.5000\n",
      "Epoch 13/20\n",
      "160/160 [==============================] - 0s - loss: 0.6533 - acc: 0.6375 - val_loss: 0.6867 - val_acc: 0.3250\n",
      "Epoch 14/20\n",
      "160/160 [==============================] - 0s - loss: 0.6442 - acc: 0.5438 - val_loss: 0.7005 - val_acc: 0.3250\n",
      "Epoch 15/20\n",
      "160/160 [==============================] - 0s - loss: 0.6365 - acc: 0.5438 - val_loss: 0.6903 - val_acc: 0.3250\n",
      "Epoch 16/20\n",
      "160/160 [==============================] - 0s - loss: 0.6198 - acc: 0.5812 - val_loss: 0.6386 - val_acc: 0.7250\n",
      "Epoch 17/20\n",
      "160/160 [==============================] - 0s - loss: 0.6071 - acc: 0.9250 - val_loss: 0.5956 - val_acc: 0.9500\n",
      "Epoch 18/20\n",
      "160/160 [==============================] - 0s - loss: 0.5804 - acc: 0.9625 - val_loss: 0.6077 - val_acc: 0.7250\n",
      "Epoch 19/20\n",
      "160/160 [==============================] - 0s - loss: 0.5529 - acc: 0.7938 - val_loss: 0.6026 - val_acc: 0.6750\n",
      "Epoch 20/20\n",
      "160/160 [==============================] - 0s - loss: 0.5208 - acc: 0.8312 - val_loss: 0.5426 - val_acc: 0.8500\n"
     ]
    }
   ],
   "source": [
    "fit2 = model2.fit(X_train, Y_train, validation_data=(X_valid, Y_valid), epochs=20, batch_size=64)"
   ]
  },
  {
   "cell_type": "code",
   "execution_count": 12,
   "metadata": {},
   "outputs": [
    {
     "name": "stdout",
     "output_type": "stream",
     "text": [
      "Final Validation Accuracy: 85.00%\n",
      "Final Training Accuracy: 93.12%\n"
     ]
    },
    {
     "data": {
      "image/png": "[encoded data removed]",
      "text/plain": [
       "<matplotlib.figure.Figure at 0x127423f10>"
      ]
     },
     "metadata": {},
     "output_type": "display_data"
    }
   ],
   "source": [
    "accplot(fit2, model2, X_train, Y_train, X_valid, Y_valid)"
   ]
  },
  {
   "cell_type": "code",
   "execution_count": 13,
   "metadata": {},
   "outputs": [
    {
     "name": "stdout",
     "output_type": "stream",
     "text": [
      "Final Validation Accuracy: 54.26%\n",
      "Final Training Accuracy: 48.93%\n"
     ]
    },
    {
     "data": {
      "image/png": "[encoded data removed]",
      "text/plain": [
       "<matplotlib.figure.Figure at 0x1276863d0>"
      ]
     },
     "metadata": {},
     "output_type": "display_data"
    }
   ],
   "source": [
    "lossplot(fit2, model2, X_train, Y_train, X_valid, Y_valid)"
   ]
  },
  {
   "cell_type": "markdown",
   "metadata": {
    "collapsed": true
   },
   "source": [
    "## Zip data \n",
    "The zip data of **Chapter 4 ** is a more realistic data set. We try it first with a simple network, equivalent to multilogit model, and then using a wider and deeper network."
   ]
  },
  {
   "cell_type": "code",
   "execution_count": 14,
   "metadata": {
    "collapsed": true
   },
   "outputs": [],
   "source": [
    "zipdata = np.loadtxt(\"../data/zip.train\")\n",
    "X=zipdata[:, 1:]\n",
    "Y=zipdata[:, 0]\n",
    "# one hot encoding of Y\n",
    "Y = keras.utils.np_utils.to_categorical(Y)"
   ]
  },
  {
   "cell_type": "code",
   "execution_count": 15,
   "metadata": {
    "collapsed": true
   },
   "outputs": [],
   "source": [
    "X_train, X_valid, Y_train, Y_valid = train_test_split(X, Y, test_size = 0.2, random_state = 150)"
   ]
  },
  {
   "cell_type": "code",
   "execution_count": 16,
   "metadata": {},
   "outputs": [
    {
     "name": "stdout",
     "output_type": "stream",
     "text": [
      "_________________________________________________________________\n",
      "Layer (type)                 Output Shape              Param #   \n",
      "=================================================================\n",
      "dense_7 (Dense)              (None, 10)                2570      \n",
      "=================================================================\n",
      "Total params: 2,570\n",
      "Trainable params: 2,570\n",
      "Non-trainable params: 0\n",
      "_________________________________________________________________\n",
      "None\n"
     ]
    }
   ],
   "source": [
    "# multi-logit regression\n",
    "model3 = Sequential()\n",
    "model3.add(Dense(units = 10, input_dim = 256, activation = 'softmax'))\n",
    "model3.compile(loss = 'categorical_crossentropy', optimizer = 'adam', metrics = ['accuracy'])\n",
    "print(model3.summary())"
   ]
  },
  {
   "cell_type": "code",
   "execution_count": 17,
   "metadata": {},
   "outputs": [
    {
     "name": "stdout",
     "output_type": "stream",
     "text": [
      "Train on 5832 samples, validate on 1459 samples\n",
      "Epoch 1/20\n",
      "5832/5832 [==============================] - 0s - loss: 1.3999 - acc: 0.5622 - val_loss: 0.7350 - val_acc: 0.8047\n",
      "Epoch 2/20\n",
      "5832/5832 [==============================] - 0s - loss: 0.5458 - acc: 0.8623 - val_loss: 0.4674 - val_acc: 0.8876\n",
      "Epoch 3/20\n",
      "5832/5832 [==============================] - 0s - loss: 0.3861 - acc: 0.9019 - val_loss: 0.3735 - val_acc: 0.9116\n",
      "Epoch 4/20\n",
      "5832/5832 [==============================] - 0s - loss: 0.3201 - acc: 0.9201 - val_loss: 0.3246 - val_acc: 0.9184\n",
      "Epoch 5/20\n",
      "5832/5832 [==============================] - 0s - loss: 0.2803 - acc: 0.9312 - val_loss: 0.2917 - val_acc: 0.9219\n",
      "Epoch 6/20\n",
      "5832/5832 [==============================] - 0s - loss: 0.2536 - acc: 0.9360 - val_loss: 0.2710 - val_acc: 0.9287\n",
      "Epoch 7/20\n",
      "5832/5832 [==============================] - 0s - loss: 0.2352 - acc: 0.9400 - val_loss: 0.2571 - val_acc: 0.9308\n",
      "Epoch 8/20\n",
      "5832/5832 [==============================] - 0s - loss: 0.2204 - acc: 0.9414 - val_loss: 0.2456 - val_acc: 0.9342\n",
      "Epoch 9/20\n",
      "5832/5832 [==============================] - 0s - loss: 0.2088 - acc: 0.9460 - val_loss: 0.2366 - val_acc: 0.9363\n",
      "Epoch 10/20\n",
      "5832/5832 [==============================] - 0s - loss: 0.1992 - acc: 0.9496 - val_loss: 0.2317 - val_acc: 0.9417\n",
      "Epoch 11/20\n",
      "5832/5832 [==============================] - 0s - loss: 0.1903 - acc: 0.9504 - val_loss: 0.2239 - val_acc: 0.9397\n",
      "Epoch 12/20\n",
      "5832/5832 [==============================] - 0s - loss: 0.1852 - acc: 0.9516 - val_loss: 0.2209 - val_acc: 0.9411\n",
      "Epoch 13/20\n",
      "5832/5832 [==============================] - 0s - loss: 0.1792 - acc: 0.9542 - val_loss: 0.2141 - val_acc: 0.9431\n",
      "Epoch 14/20\n",
      "5832/5832 [==============================] - 0s - loss: 0.1717 - acc: 0.9546 - val_loss: 0.2111 - val_acc: 0.9411\n",
      "Epoch 15/20\n",
      "5832/5832 [==============================] - 0s - loss: 0.1677 - acc: 0.9563 - val_loss: 0.2054 - val_acc: 0.9417\n",
      "Epoch 16/20\n",
      "5832/5832 [==============================] - 0s - loss: 0.1627 - acc: 0.9573 - val_loss: 0.2056 - val_acc: 0.9424\n",
      "Epoch 17/20\n",
      "5832/5832 [==============================] - 0s - loss: 0.1585 - acc: 0.9583 - val_loss: 0.2057 - val_acc: 0.9417\n",
      "Epoch 18/20\n",
      "5832/5832 [==============================] - 0s - loss: 0.1547 - acc: 0.9609 - val_loss: 0.2046 - val_acc: 0.9438\n",
      "Epoch 19/20\n",
      "5832/5832 [==============================] - 0s - loss: 0.1505 - acc: 0.9602 - val_loss: 0.2005 - val_acc: 0.9459\n",
      "Epoch 20/20\n",
      "5832/5832 [==============================] - 0s - loss: 0.1473 - acc: 0.9628 - val_loss: 0.2003 - val_acc: 0.9445\n"
     ]
    }
   ],
   "source": [
    "fit3 = model3.fit(X_train, Y_train, validation_data = (X_valid, Y_valid), epochs = 20, batch_size = 64)"
   ]
  },
  {
   "cell_type": "code",
   "execution_count": 18,
   "metadata": {},
   "outputs": [
    {
     "name": "stdout",
     "output_type": "stream",
     "text": [
      "Final Validation Accuracy: 94.45%\n",
      "Final Training Accuracy: 96.38%\n"
     ]
    },
    {
     "data": {
      "image/png": "[encoded data removed]",
      "text/plain": [
       "<matplotlib.figure.Figure at 0x12ad22fd0>"
      ]
     },
     "metadata": {},
     "output_type": "display_data"
    }
   ],
   "source": [
    "accplot(fit3, model3, X_train, Y_train, X_valid, Y_valid)"
   ]
  },
  {
   "cell_type": "markdown",
   "metadata": {},
   "source": [
    "## Fully-connected Deep and Wide Network\n",
    "The sigmoid activation function is hard to use in practice. The relu is faster and often enjoys a better convergence properties, and also is more popular. A fully connected model for zip data is visualized http://scs.ryerson.ca/~aharley/vis/fc/"
   ]
  },
  {
   "cell_type": "code",
   "execution_count": 19,
   "metadata": {},
   "outputs": [
    {
     "name": "stdout",
     "output_type": "stream",
     "text": [
      "_________________________________________________________________\n",
      "Layer (type)                 Output Shape              Param #   \n",
      "=================================================================\n",
      "dense_8 (Dense)              (None, 500)               128500    \n",
      "_________________________________________________________________\n",
      "dense_9 (Dense)              (None, 500)               250500    \n",
      "_________________________________________________________________\n",
      "dense_10 (Dense)             (None, 500)               250500    \n",
      "_________________________________________________________________\n",
      "dense_11 (Dense)             (None, 500)               250500    \n",
      "_________________________________________________________________\n",
      "dense_12 (Dense)             (None, 500)               250500    \n",
      "_________________________________________________________________\n",
      "dense_13 (Dense)             (None, 10)                5010      \n",
      "=================================================================\n",
      "Total params: 1,135,510\n",
      "Trainable params: 1,135,510\n",
      "Non-trainable params: 0\n",
      "_________________________________________________________________\n",
      "None\n"
     ]
    }
   ],
   "source": [
    "# multi-logit regression\n",
    "model4 = Sequential()\n",
    "model4.add(Dense(units = 500, input_dim = 256, activation = 'relu')) #layer 01\n",
    "model4.add(Dense(units = 500, input_dim = 256, activation = 'relu')) #layer 02\n",
    "model4.add(Dense(units = 500, input_dim = 256, activation = 'relu')) #layer 03\n",
    "model4.add(Dense(units = 500, input_dim = 256, activation = 'relu')) #layer 04\n",
    "model4.add(Dense(units = 500, input_dim = 256, activation = 'relu')) #layer 05\n",
    "model4.add(Dense(units = 10, activation = 'softmax'))  # layer output\n",
    "model4.compile(loss='categorical_crossentropy', optimizer='adam', metrics=['accuracy'])\n",
    "print(model4.summary())"
   ]
  },
  {
   "cell_type": "code",
   "execution_count": 20,
   "metadata": {},
   "outputs": [
    {
     "name": "stdout",
     "output_type": "stream",
     "text": [
      "Train on 5832 samples, validate on 1459 samples\n",
      "Epoch 1/20\n",
      "5832/5832 [==============================] - 2s - loss: 0.4017 - acc: 0.8736 - val_loss: 0.2128 - val_acc: 0.9472\n",
      "Epoch 2/20\n",
      "5832/5832 [==============================] - 1s - loss: 0.1433 - acc: 0.9552 - val_loss: 0.1897 - val_acc: 0.9486\n",
      "Epoch 3/20\n",
      "5832/5832 [==============================] - 1s - loss: 0.0919 - acc: 0.9719 - val_loss: 0.1659 - val_acc: 0.9568\n",
      "Epoch 4/20\n",
      "5832/5832 [==============================] - 1s - loss: 0.0652 - acc: 0.9805 - val_loss: 0.1415 - val_acc: 0.9685\n",
      "Epoch 5/20\n",
      "5832/5832 [==============================] - 2s - loss: 0.0667 - acc: 0.9798 - val_loss: 0.1955 - val_acc: 0.9541\n",
      "Epoch 6/20\n",
      "5832/5832 [==============================] - 2s - loss: 0.0456 - acc: 0.9846 - val_loss: 0.2061 - val_acc: 0.9609\n",
      "Epoch 7/20\n",
      "5832/5832 [==============================] - 2s - loss: 0.0669 - acc: 0.9822 - val_loss: 0.1504 - val_acc: 0.9719\n",
      "Epoch 8/20\n",
      "5832/5832 [==============================] - 2s - loss: 0.0499 - acc: 0.9870 - val_loss: 0.1774 - val_acc: 0.9616\n",
      "Epoch 9/20\n",
      "5832/5832 [==============================] - 1s - loss: 0.0449 - acc: 0.9873 - val_loss: 0.1541 - val_acc: 0.9671\n",
      "Epoch 10/20\n",
      "5832/5832 [==============================] - 1s - loss: 0.0212 - acc: 0.9945 - val_loss: 0.1587 - val_acc: 0.9657\n",
      "Epoch 11/20\n",
      "5832/5832 [==============================] - 1s - loss: 0.0124 - acc: 0.9964 - val_loss: 0.2909 - val_acc: 0.9554\n",
      "Epoch 12/20\n",
      "5832/5832 [==============================] - 1s - loss: 0.0442 - acc: 0.9885 - val_loss: 0.2023 - val_acc: 0.9568\n",
      "Epoch 13/20\n",
      "5832/5832 [==============================] - 1s - loss: 0.0503 - acc: 0.9878 - val_loss: 0.1879 - val_acc: 0.9650\n",
      "Epoch 14/20\n",
      "5832/5832 [==============================] - 1s - loss: 0.0429 - acc: 0.9885 - val_loss: 0.1890 - val_acc: 0.9657\n",
      "Epoch 15/20\n",
      "5832/5832 [==============================] - 1s - loss: 0.0347 - acc: 0.9904 - val_loss: 0.1531 - val_acc: 0.9657\n",
      "Epoch 16/20\n",
      "5832/5832 [==============================] - 1s - loss: 0.0234 - acc: 0.9937 - val_loss: 0.3425 - val_acc: 0.9424\n",
      "Epoch 17/20\n",
      "5832/5832 [==============================] - 1s - loss: 0.0271 - acc: 0.9937 - val_loss: 0.2090 - val_acc: 0.9657\n",
      "Epoch 18/20\n",
      "5832/5832 [==============================] - 1s - loss: 0.0166 - acc: 0.9954 - val_loss: 0.2246 - val_acc: 0.9623\n",
      "Epoch 19/20\n",
      "5832/5832 [==============================] - 1s - loss: 0.0192 - acc: 0.9943 - val_loss: 0.2639 - val_acc: 0.9575\n",
      "Epoch 20/20\n",
      "5832/5832 [==============================] - 1s - loss: 0.0175 - acc: 0.9940 - val_loss: 0.3002 - val_acc: 0.9534\n"
     ]
    }
   ],
   "source": [
    "fit4 = model4.fit(X_train, Y_train, validation_data = (X_valid, Y_valid), epochs = 20, batch_size = 64)"
   ]
  },
  {
   "cell_type": "code",
   "execution_count": 21,
   "metadata": {},
   "outputs": [
    {
     "name": "stdout",
     "output_type": "stream",
     "text": [
      "Final Validation Accuracy: 95.34%\n",
      "Final Training Accuracy: 98.94%\n"
     ]
    },
    {
     "data": {
      "image/png": "[encoded data removed]",
      "text/plain": [
       "<matplotlib.figure.Figure at 0x127f2d050>"
      ]
     },
     "metadata": {},
     "output_type": "display_data"
    }
   ],
   "source": [
    "accplot(fit4, model4, X_train, Y_train, X_valid, Y_valid)"
   ]
  },
  {
   "cell_type": "code",
   "execution_count": 22,
   "metadata": {},
   "outputs": [
    {
     "name": "stdout",
     "output_type": "stream",
     "text": [
      "Final Validation Accuracy: 30.02%\n",
      "Final Training Accuracy: 3.93%\n"
     ]
    },
    {
     "data": {
      "image/png": "[encoded data removed]",
      "text/plain": [
       "<matplotlib.figure.Figure at 0x12ad62dd0>"
      ]
     },
     "metadata": {},
     "output_type": "display_data"
    }
   ],
   "source": [
    "lossplot(fit4, model4, X_train, Y_train, X_valid, Y_valid)"
   ]
  },
  {
   "cell_type": "markdown",
   "metadata": {},
   "source": [
    "# Convolutional Deep Learning"
   ]
  },
  {
   "cell_type": "markdown",
   "metadata": {},
   "source": [
    "In previous models the spatial structure of image was ignored. Convolutional network is a building-block of image (and text) modeling. First 256 pixel data must be re-formatted as 16X16 image as in **Chapter 4**. Then the re-structured data are fed into the model in batches as before. The convulitional model for the zip data is visualized here http://scs.ryerson.ca/~aharley/vis/conv/"
   ]
  },
  {
   "cell_type": "code",
   "execution_count": 23,
   "metadata": {},
   "outputs": [],
   "source": [
    "# re-structure the data into images 16X16 images\n",
    "X_train2D = np.zeros(shape = [X_train.shape[0], 16, 16, 1])\n",
    "X_valid2D = np.zeros(shape = [X_valid.shape[0], 16, 16, 1])\n",
    "\n",
    "for i in range(X_train.shape[0]):\n",
    "    X_train2D[i,] = X_train[i, ].reshape(16, 16, 1)\n",
    "\n",
    "for i in range(X_valid.shape[0]):\n",
    "    X_valid2D[i,] = X_valid[i, ].reshape(16, 16, 1)"
   ]
  },
  {
   "cell_type": "code",
   "execution_count": 24,
   "metadata": {},
   "outputs": [
    {
     "data": {
      "text/plain": [
       "[5832, 16, 16, 1]"
      ]
     },
     "execution_count": 24,
     "metadata": {},
     "output_type": "execute_result"
    }
   ],
   "source": [
    "[X_train.shape[0], 16, 16, 1]"
   ]
  },
  {
   "cell_type": "markdown",
   "metadata": {},
   "source": [
    "Now we try to build two layers of convolutions. Often a convolutional layer is attached to a max-pooling layer. At the top layer, often a fully-connected layer is attached to the max-pooling layer (right before the output layer), to combine the convolution information. "
   ]
  },
  {
   "cell_type": "code",
   "execution_count": 25,
   "metadata": {
    "collapsed": true
   },
   "outputs": [],
   "source": [
    "\n",
    "model5 = Sequential()\n",
    "model5.add(Conv2D(filters = 8, kernel_size = [6,6], padding = 'same', \n",
    "                  input_shape = (16, 16, 1), activation = 'relu'))\n",
    "model5.add(MaxPooling2D(pool_size=2))\n",
    "model5.add(Conv2D(filters = 16, kernel_size = [4,4], padding = 'same', \n",
    "                  input_shape = (16, 16, 1), activation = 'relu'))\n",
    "model5.add(MaxPooling2D(pool_size = 4))\n",
    "model5.add(Flatten())\n",
    "model5.add(Dense(units = 256, activation = 'relu'))  # layer output\n",
    "model5.add(Dense(units = 10, activation = 'softmax'))  # layer output\n",
    "model5.compile(loss='categorical_crossentropy', optimizer = 'adam', metrics = ['accuracy'])"
   ]
  },
  {
   "cell_type": "code",
   "execution_count": 26,
   "metadata": {},
   "outputs": [
    {
     "name": "stdout",
     "output_type": "stream",
     "text": [
      "_________________________________________________________________\n",
      "Layer (type)                 Output Shape              Param #   \n",
      "=================================================================\n",
      "conv2d_1 (Conv2D)            (None, 16, 16, 8)         296       \n",
      "_________________________________________________________________\n",
      "max_pooling2d_1 (MaxPooling2 (None, 8, 8, 8)           0         \n",
      "_________________________________________________________________\n",
      "conv2d_2 (Conv2D)            (None, 8, 8, 16)          2064      \n",
      "_________________________________________________________________\n",
      "max_pooling2d_2 (MaxPooling2 (None, 2, 2, 16)          0         \n",
      "_________________________________________________________________\n",
      "flatten_1 (Flatten)          (None, 64)                0         \n",
      "_________________________________________________________________\n",
      "dense_14 (Dense)             (None, 256)               16640     \n",
      "_________________________________________________________________\n",
      "dense_15 (Dense)             (None, 10)                2570      \n",
      "=================================================================\n",
      "Total params: 21,570\n",
      "Trainable params: 21,570\n",
      "Non-trainable params: 0\n",
      "_________________________________________________________________\n",
      "None\n"
     ]
    }
   ],
   "source": [
    "print(model5.summary())"
   ]
  },
  {
   "cell_type": "code",
   "execution_count": 27,
   "metadata": {},
   "outputs": [
    {
     "name": "stdout",
     "output_type": "stream",
     "text": [
      "Train on 5832 samples, validate on 1459 samples\n",
      "Epoch 1/20\n",
      "5832/5832 [==============================] - 1s - loss: 1.1604 - acc: 0.6348 - val_loss: 0.3403 - val_acc: 0.9102\n",
      "Epoch 2/20\n",
      "5832/5832 [==============================] - 1s - loss: 0.2184 - acc: 0.9338 - val_loss: 0.1936 - val_acc: 0.9424\n",
      "Epoch 3/20\n",
      "5832/5832 [==============================] - 1s - loss: 0.1354 - acc: 0.9590 - val_loss: 0.1406 - val_acc: 0.9568\n",
      "Epoch 4/20\n",
      "5832/5832 [==============================] - 1s - loss: 0.1002 - acc: 0.9721 - val_loss: 0.1262 - val_acc: 0.9637\n",
      "Epoch 5/20\n",
      "5832/5832 [==============================] - 1s - loss: 0.0791 - acc: 0.9779 - val_loss: 0.1173 - val_acc: 0.9650\n",
      "Epoch 6/20\n",
      "5832/5832 [==============================] - 1s - loss: 0.0619 - acc: 0.9827 - val_loss: 0.1104 - val_acc: 0.9671\n",
      "Epoch 7/20\n",
      "5832/5832 [==============================] - 1s - loss: 0.0525 - acc: 0.9846 - val_loss: 0.0880 - val_acc: 0.9774\n",
      "Epoch 8/20\n",
      "5832/5832 [==============================] - 1s - loss: 0.0448 - acc: 0.9859 - val_loss: 0.0970 - val_acc: 0.9712\n",
      "Epoch 9/20\n",
      "5832/5832 [==============================] - 1s - loss: 0.0379 - acc: 0.9890 - val_loss: 0.0904 - val_acc: 0.9781\n",
      "Epoch 10/20\n",
      "5832/5832 [==============================] - 1s - loss: 0.0306 - acc: 0.9909 - val_loss: 0.0832 - val_acc: 0.9781\n",
      "Epoch 11/20\n",
      "5832/5832 [==============================] - 1s - loss: 0.0282 - acc: 0.9921 - val_loss: 0.0800 - val_acc: 0.9760\n",
      "Epoch 12/20\n",
      "5832/5832 [==============================] - 1s - loss: 0.0353 - acc: 0.9913 - val_loss: 0.0864 - val_acc: 0.9808\n",
      "Epoch 13/20\n",
      "5832/5832 [==============================] - 1s - loss: 0.0193 - acc: 0.9943 - val_loss: 0.0909 - val_acc: 0.9774\n",
      "Epoch 14/20\n",
      "5832/5832 [==============================] - 1s - loss: 0.0147 - acc: 0.9969 - val_loss: 0.0692 - val_acc: 0.9829\n",
      "Epoch 15/20\n",
      "5832/5832 [==============================] - 1s - loss: 0.0140 - acc: 0.9966 - val_loss: 0.0843 - val_acc: 0.9788\n",
      "Epoch 16/20\n",
      "5832/5832 [==============================] - 1s - loss: 0.0117 - acc: 0.9974 - val_loss: 0.0955 - val_acc: 0.9774\n",
      "Epoch 17/20\n",
      "5832/5832 [==============================] - 1s - loss: 0.0115 - acc: 0.9973 - val_loss: 0.0795 - val_acc: 0.9822\n",
      "Epoch 18/20\n",
      "5832/5832 [==============================] - 1s - loss: 0.0120 - acc: 0.9973 - val_loss: 0.0827 - val_acc: 0.9801\n",
      "Epoch 19/20\n",
      "5832/5832 [==============================] - 1s - loss: 0.0120 - acc: 0.9967 - val_loss: 0.0812 - val_acc: 0.9794\n",
      "Epoch 20/20\n",
      "5832/5832 [==============================] - 1s - loss: 0.0135 - acc: 0.9959 - val_loss: 0.0857 - val_acc: 0.9822\n"
     ]
    }
   ],
   "source": [
    "fit5 = model5.fit(X_train2D, Y_train, validation_data=(X_valid2D, Y_valid), \n",
    "                  epochs = 20, batch_size = 64)\n"
   ]
  },
  {
   "cell_type": "code",
   "execution_count": 28,
   "metadata": {},
   "outputs": [
    {
     "name": "stdout",
     "output_type": "stream",
     "text": [
      "Final Validation Accuracy: 98.22%\n",
      "Final Training Accuracy: 99.83%\n"
     ]
    },
    {
     "data": {
      "image/png": "[encoded data removed]",
      "text/plain": [
       "<matplotlib.figure.Figure at 0x129ac3b90>"
      ]
     },
     "metadata": {},
     "output_type": "display_data"
    }
   ],
   "source": [
    "accplot(fit5, model5, X_train2D, Y_train, X_valid2D, Y_valid)"
   ]
  },
  {
   "cell_type": "code",
   "execution_count": 29,
   "metadata": {},
   "outputs": [
    {
     "name": "stdout",
     "output_type": "stream",
     "text": [
      "Final Validation Accuracy: 8.57%\n",
      "Final Training Accuracy: 0.79%\n"
     ]
    },
    {
     "data": {
      "image/png": "[encoded data removed]",
      "text/plain": [
       "<matplotlib.figure.Figure at 0x12dcb8150>"
      ]
     },
     "metadata": {},
     "output_type": "display_data"
    }
   ],
   "source": [
    "lossplot(fit5, model5, X_train2D, Y_train, X_valid2D, Y_valid)"
   ]
  },
  {
   "cell_type": "markdown",
   "metadata": {},
   "source": [
    "# The role of the test data\n",
    "After fitting various models, the final model is checked using an independent set of data, called the test set. Choosing the best model according to the test set will result in a little bit of overfitting.\n",
    "The test set is only there to see how the model behaves in production mode. \n",
    "\n",
    "\n",
    "First we must prepare the data. We need to prepare once for fully-connected models that only receives vector X (1X256) as predictors, and another data that receives a matrix 16X16 as predictors.\n",
    "The categorical reponse variable Y, like the training section must be one hot coded. "
   ]
  },
  {
   "cell_type": "code",
   "execution_count": 30,
   "metadata": {
    "collapsed": true
   },
   "outputs": [],
   "source": [
    "zipdata = np.loadtxt(\"../data/zip.test\")\n",
    "# divide data into preditor X_test, and response Y_test\n",
    "X_test = zipdata[:,1:]\n",
    "Y_test = zipdata[:,0]\n",
    "\n",
    "# one hot encoding of Y_test\n",
    "Y_test = keras.utils.np_utils.to_categorical(Y_test)\n",
    "\n",
    "# reshape X_test for convolutional model\n",
    "X_test2D = np.zeros(shape = [X_test.shape[0], 16, 16, 1])\n",
    "for i in range(X_test.shape[0]):\n",
    "    X_test2D[i, ] = X_test[i, ].reshape(16, 16, 1)\n"
   ]
  },
  {
   "cell_type": "code",
   "execution_count": 31,
   "metadata": {
    "collapsed": true
   },
   "outputs": [],
   "source": [
    "#  check the accuracy of multilogit  (no hidden layer) model\n",
    "score3 = model3.evaluate(X_test, Y_test, verbose = 0)\n",
    "\n",
    "# check the accuracy of wide and deep fully-connected model\n",
    "score4 = model4.evaluate(X_test, Y_test, verbose = 0)\n",
    "\n",
    "# check the accuracy of convolutional model\n",
    "score5 = model5.evaluate(X_test2D, Y_test, verbose = 0)\n"
   ]
  },
  {
   "cell_type": "code",
   "execution_count": 32,
   "metadata": {},
   "outputs": [
    {
     "name": "stdout",
     "output_type": "stream",
     "text": [
      "0.90981564536 0.921275535744 0.952665670273\n"
     ]
    }
   ],
   "source": [
    "print score3[1], score4[1], score5[1]"
   ]
  }
 ],
 "metadata": {
  "kernelspec": {
   "display_name": "Python 2",
   "language": "python",
   "name": "python2"
  },
  "language_info": {
   "codemirror_mode": {
    "name": "ipython",
    "version": 2
   },
   "file_extension": ".py",
   "mimetype": "text/x-python",
   "name": "python",
   "nbconvert_exporter": "python",
   "pygments_lexer": "ipython2",
   "version": "2.7.13"
  }
 },
 "nbformat": 4,
 "nbformat_minor": 1
}
